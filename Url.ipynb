{
 "cells": [
  {
   "cell_type": "code",
   "execution_count": 1,
   "metadata": {
    "collapsed": true
   },
   "outputs": [],
   "source": [
    "import requests\n",
    "from urllib.request import urlopen\n",
    "from bs4 import BeautifulSoup\n",
    "import pickle\n",
    "import json\n",
    "import datetime"
   ]
  },
  {
   "cell_type": "code",
   "execution_count": 2,
   "metadata": {
    "collapsed": true
   },
   "outputs": [],
   "source": [
    "def crawlPage(url):\n",
    "    \n",
    "    res = requests.get(url)\n",
    "    \n",
    "    soup = BeautifulSoup(res.text,'lxml')\n",
    "    \n",
    "    articles_dict = {}\n",
    "    \n",
    "    for time in soup.select('span.date > time'):\n",
    "        \n",
    "        articles_dict['date'] = str(time).split(\"T\")[0].split(\"=\\\"\")[1]\n",
    "    \n",
    "    for title in soup.select('h1.pg-title'):\n",
    "    \n",
    "        articles_dict['title'] = title.text.strip(\"\\n\")\n",
    "\n",
    "    for push in soup.select(\"span\"):\n",
    "        push.extract()\n",
    "    \n",
    "    for push in soup.select(\"div.wsw > div\"):\n",
    "        push.extract()\n",
    "      \n",
    "    contents = soup.select('div.wsw > p')\n",
    "\n",
    "    contents_dict = {}\n",
    "\n",
    "    for page in range(len(contents)):\n",
    "    \n",
    "        contents_dict[page+1] = contents[page].text.replace('\\n', '').replace('\\'', '').replace('\\\"', '').strip()\n",
    "        \n",
    "    articles_dict['contents'] = contents_dict\n",
    "    \n",
    "    articles_dict['source'] = 'VOA'\n",
    "    \n",
    "    articles_dict['links'] = url\n",
    "    \n",
    "    return articles_dict"
   ]
  },
  {
   "cell_type": "code",
   "execution_count": 3,
   "metadata": {
    "collapsed": false
   },
   "outputs": [
    {
     "data": {
      "text/plain": [
       "{'contents': {1: 'The United States is reaffirming its engagement with Southeast Asian nations at a time when analysts say there are concerns that North Koreas threats are overshadowing territorial disputes in the South China Sea.',\n",
       "  2: 'Since becoming president, Donald Trump has softened his once-stern tone on China, reaching out to Beijing to help pressure North Korea to end its provocative nuclear and missile programs. On Friday, he tweeted:',\n",
       "  3: 'In comparison, his last tweet about the South China Sea was in December after a Chinese navy ship seized an American unmanned underwater vehicle.',\n",
       "  4: 'Some analysts warned the U.S. not to create a perception of being so focused on the North Korea threat that it loses sight of other issues important to allies in Southeast Asia, in particular the territorial disputes in the South China Sea.',\n",
       "  5: 'Clearly the administration must be very cautious, said Harry Kazianis, who directs defense studies at the Center for the National Interest.',\n",
       "  6: 'Help [from China] on North Korea could come at a very steep price, damaging critical partnership throughout Asia, if Vietnam and others feel abandoned for Chinese help on North Korea, he added.',\n",
       "  7: 'Southeast Asian nations are seeking a long-term agreement to settle disputes in the South China Sea, as China moves to extend its regional influence. The North Korea issue, and the Trump administrations early decision to back out of the Trans-Pacific Partnership regional economic pact, could send mixed signals.',\n",
       "  8: 'The Trump administration must move very cautiously, balancing all strategic problems in the Asia-Pacific carefully, Kazianis said.',\n",
       "  9: 'State Department officials say the U.S. is in pursuit of expanding good trade with the Southeast Asian bloc thats free and fair.',\n",
       "  10: 'ASEAN trade',\n",
       "  11: 'ASEAN countries buy more than $100 billion of U.S. exports each year, and the volume of trade supports over half a million American jobs, according to Patrick Murphy, Deputy Assistant Secretary of State for Southeast Asia.',\n",
       "  12: 'However, there are a number of countries in this region that enjoy a substantial trade surplus with the Untied States, and thats a disadvantage for us, Murphy said.',\n",
       "  13: 'FILE - U.S. Vice President Mike Pence, left, walks with his Indonesian counterpart Jusuf Kalla, right, after their meeting in Jakarta, Indonesia, April 20, 2017.',\n",
       "  14: '',\n",
       "  15: 'Reaching out',\n",
       "  16: 'The White House has reached out to allies in the region, sending Vice President Mike Pence on a 10-day tour with stops in South Korea, Japan and Indonesia this week. Pence announced that Trump will attend the U.S.-ASEAN (Association of Southeast Asian Nations) and the East Asia summit in the Philippines in November, along with the APEC (Asia Pacific Economic Cooperation) summit in Vietnam.',\n",
       "  17: 'It is a testament to the value that President Trump places on the U.S.-ASEAN strategic partnership and the Asia Pacific as a whole, Pence said Thursday in the Indonesian capital. And its a sign, I hope, to all of our firm and unwavering commitment to build on the strong foundation that we already share.In two weeks, ASEAN foreign ministers will gather in Washington prior to the planned multilateral meetings in August, with U.S. Secretary of State Rex Tillerson hosting the ministers on May 4 at the State Department.Founded in 1967, ASEANs ten member states cover the size of the continental United States, with a total population of 626 million and an economy valued at $2.4 trillion. Washington established its relations with this bloc in 1977 through the ASEAN-U.S. Dialogue. The U.S. and ASEAN also share nearly one hundred sister city or sister state partnerships.'},\n",
       " 'date': '2017-04-21',\n",
       " 'links': 'http://www.voanews.com/a/us-reassure-asia-allies-south-china-sea-dispute/3820668.html',\n",
       " 'source': 'VOA',\n",
       " 'title': 'US to Reassure Asia Allies on South China Sea Dispute '}"
      ]
     },
     "execution_count": 3,
     "metadata": {},
     "output_type": "execute_result"
    }
   ],
   "source": [
    "crawlPage('http://www.voanews.com/a/us-reassure-asia-allies-south-china-sea-dispute/3820668.html')"
   ]
  },
  {
   "cell_type": "code",
   "execution_count": null,
   "metadata": {
    "collapsed": true
   },
   "outputs": [],
   "source": []
  }
 ],
 "metadata": {
  "kernelspec": {
   "display_name": "Python 3",
   "language": "python",
   "name": "python3"
  },
  "language_info": {
   "codemirror_mode": {
    "name": "ipython",
    "version": 3
   },
   "file_extension": ".py",
   "mimetype": "text/x-python",
   "name": "python",
   "nbconvert_exporter": "python",
   "pygments_lexer": "ipython3",
   "version": "3.6.0"
  }
 },
 "nbformat": 4,
 "nbformat_minor": 2
}
