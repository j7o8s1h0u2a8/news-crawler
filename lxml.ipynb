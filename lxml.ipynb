{
 "cells": [
  {
   "cell_type": "code",
   "execution_count": 30,
   "metadata": {
    "collapsed": false
   },
   "outputs": [
    {
     "name": "stdout",
     "output_type": "stream",
     "text": [
      "{1: 'United Nations and international aid agencies warn the chances are growing for mass deaths from starvation in the Horn of Africa, Yemen, Nigeria, and South Sudan. Lack of money is pushing the humanitarian crisis ever closer.', 2: 'Aid agencies are haunted by the specter of the 2011 famine in the Horn of Africa, which killed more than 260,000 people, half of them children under age five. They do not want a repeat of that tragedy, but say they fear the severity of the current humanitarian crisis gripping Yemen, the Horn of Africa and neighboring countries could result in an even worse outcome.', 3: 'FILE - In this photo taken Feb. 25, 2017, displaced Somali girls who fled the drought in southern Somalia stand in a queue to receive food handouts at a feeding center in a camp in Mogadishu, Somalia.', 4: None, 5: 'The U.N. refugee agency reports hunger and conflict are forcing increasing numbers of people to flee within their countries and across borders in search of food and refuge. ', 6: '“Consecutive harvests have failed, conflict in South Sudan coupled with drought is leading to famine and outflows of refugees, insecurity in Somalia is leading to rising internal displacement, and rates of malnutrition are high, especially among children and lactating mothers,” he said.', 7: 'Edwards says in the Dollo Ado area of southeast Ethiopia, acute malnutrition rates among very young newly arriving Somali refugee children are running between 50 and nearly 80 percent.', 8: 'Aid agencies have been scaling up their humanitarian operations in northeastern Nigeria, South Sudan, Somalia and Yemen, where more than 20 million people are experiencing famine or are on the brink of famine.', 9: 'FILE - Somalis displaced by the drought, arrive at makeshift camps in the Tabelaha area on the outskirts of Mogadishu, Somalia, March 30, 2017.', 10: None, 11: 'But Edwards tells VOA the efforts may be doomed to failure, he warns problems will reach catastrophic levels unless funds are received.', 12: '“What we are looking at is the need for funding across the international community,\" he said. \"This is really is an absolutely critical situation that is rapidly unfolding across a large swathe of Africa from west to east. It does need urgent addressing from a really concerted international action.”', 13: 'Earlier this year, the United Nations launched an appeal for $4.4 billion to provide life saving assistance in the four famine-affected countries. As of now, only 21 percent of that amount has been received, far from enough to avert a humanitarian catastrophe.'}\n"
     ]
    }
   ],
   "source": [
    "from lxml import html\n",
    "import requests\n",
    "\n",
    "page = requests.get('http://www.voanews.com/a/risk-of-death-from-starvation-grows-in-africa/3805441.html')\n",
    "tree = html.fromstring(page.content)\n",
    "\n",
    "articles_dict = {}\n",
    "\n",
    "contents = tree.xpath('//*[@id=\"content\"]/div[1]/div[2]/div/div/div/div[1]/div/div/p')\n",
    "\n",
    "for page in range(len(contents)):\n",
    "    articles_dict[page+1] = contents[page].text\n",
    "    \n",
    "print(articles_dict)"
   ]
  },
  {
   "cell_type": "code",
   "execution_count": null,
   "metadata": {
    "collapsed": true
   },
   "outputs": [],
   "source": []
  }
 ],
 "metadata": {
  "kernelspec": {
   "display_name": "Python 3",
   "language": "python",
   "name": "python3"
  },
  "language_info": {
   "codemirror_mode": {
    "name": "ipython",
    "version": 3
   },
   "file_extension": ".py",
   "mimetype": "text/x-python",
   "name": "python",
   "nbconvert_exporter": "python",
   "pygments_lexer": "ipython3",
   "version": "3.6.0"
  }
 },
 "nbformat": 4,
 "nbformat_minor": 2
}
