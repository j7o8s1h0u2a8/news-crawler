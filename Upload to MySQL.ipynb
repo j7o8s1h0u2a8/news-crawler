{
 "cells": [
  {
   "cell_type": "code",
   "execution_count": 7,
   "metadata": {
    "collapsed": false
   },
   "outputs": [],
   "source": [
    "##### 上傳 標題 分類 連結 至mySQL\n",
    "import requests\n",
    "from urllib.request import urlopen\n",
    "from bs4 import BeautifulSoup\n",
    "import pickle\n",
    "import pymysql\n",
    "\n",
    "f = open('e://voaUrl/test_url.txt','rt')\n",
    "lines = f.readlines()\n",
    "\n",
    "### 預防重複上傳\n",
    "def sql_insert(conn,dic):\n",
    "    cur = conn.cursor()\n",
    "    try:\n",
    "        cur.execute(\"INSERT INTO cklist(title,source,url) VALUES (%(title)s, %(source)s, %(url)s )\", dic)\n",
    "        cur.connection.commit()\n",
    "    except:\n",
    "        pass\n",
    "\n",
    "### 上傳連結\n",
    "conn = pymysql.connect(host='10.120.28.52', port=3306, user='gp3', passwd='Group_03', db='gp3',autocommit=True)\n",
    "\n",
    "url = 'http://www.voanews.com'\n",
    "\n",
    "for i in lines:\n",
    "    html = urlopen(i)\n",
    "\n",
    "    soup = BeautifulSoup(html, 'lxml')\n",
    "        \n",
    "    articles_dict = {}\n",
    "    \n",
    "    for usa in soup.select('#ordinaryItems > li > div'):\n",
    "    \n",
    "        links = usa.select_one('a')['href']\n",
    "    \n",
    "        articles_dict['title'] = usa.select_one('a')['title'] \n",
    "        \n",
    "        articles_dict['source'] = 'VOA'\n",
    "        \n",
    "        articles_dict['url'] = url + links\n",
    "    \n",
    "        #print(articles_dict)\n",
    "        \n",
    "        sql_insert(conn,articles_dict)\n"
   ]
  },
  {
   "cell_type": "code",
   "execution_count": null,
   "metadata": {
    "collapsed": true
   },
   "outputs": [],
   "source": []
  }
 ],
 "metadata": {
  "kernelspec": {
   "display_name": "Python 3",
   "language": "python",
   "name": "python3"
  },
  "language_info": {
   "codemirror_mode": {
    "name": "ipython",
    "version": 3
   },
   "file_extension": ".py",
   "mimetype": "text/x-python",
   "name": "python",
   "nbconvert_exporter": "python",
   "pygments_lexer": "ipython3",
   "version": "3.6.0"
  }
 },
 "nbformat": 4,
 "nbformat_minor": 2
}
