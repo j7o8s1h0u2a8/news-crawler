{
 "cells": [
  {
   "cell_type": "code",
   "execution_count": 153,
   "metadata": {
    "collapsed": false,
    "scrolled": false
   },
   "outputs": [
    {
     "name": "stdout",
     "output_type": "stream",
     "text": [
      "{1: '<div class=wsw>A large drill ship belonging to oil company Shell ran aground off Alaska on Monday night after drifting in stormy weather, company and government officials said.', 2: 'The ship, the Kulluk, broke away from one of its tow lines on Monday afternoon and was driven to rocks just off Kodiak Island, where it grounded at about 9 p.m. Alaska time, officials said.', 3: 'The 18-member crew had been evacuated by the U.S. Coast Guard late Saturday because of risks from the storm.', 4: 'With winds reported at up to 60 miles (100 km) an hour and Gulf of Alaska seas of up to 35 feet (11 m), responders were unable to keep the ship from grounding, said Coast Guard Commander Shane Montoya, the leader of the incident command team.', 5: 'We are now entering into the salvage and possible spill-response phase of this event, Montoya told a news conference late on Monday night in Anchorage.', 6: 'There were three minor injuries to people responding to the incident but all personnel have returned to duty.', 7: 'No spill so far, another overflight expected Tuesday', 8: 'There is no known spill and no reports of damage yet and a U.S. Coast Guard helicopter overflight conducted shortly after the grounding detected no visible sheen.', 9: 'A spokeswoman for the command team said it would do another overflight during daylight on Tuesday, weather permitting.', 10: 'The Kulluk has about 139,000 gallons of ultra-low-sulfur diesel on board, and equipment on the Kulluk is estimated to have about 12,000 gallons of combined lube oil and hydraulic fluid.', 11: 'The grounding of the Kulluk, a conical, Arctic-class drill ship weighing nearly 28,000 gross tons, is a blow to Shells $4.5 billion offshore program in Alaska.', 12: 'Shells plan to convert the area into a major new oil frontier has alarmed environmentalists and many Alaska Natives, but excited industry supporters.', 13: 'Environmentalists and Native opponents say the drilling program threatens a fragile region that is already being battered by rapid climate change.', 14: 'Shell and its contractors are no match for Alaskas weather and sea conditions either during drilling operations or during transit, Lois Epstein, Arctic program director for The Wilderness Society, said in an email.', 15: 'Shells costly drilling experiment in the Arctic Ocean needs to be stopped by the federal government or by Shell itself given the unacceptably high risks it poses to both humans and the environment, she added.', 16: 'The nearest town is Old Harbor, located on the opposite side of Kodiak Island from where the Kulluk is grounded. Old Harbor is a Native Alutiiq village with 208 residents.', 17: 'The leading Democrat on the U.S House of Representatives Natural Resources Committee, Ed Markey, of Massachusetts, said in a statement that this incident and others illustrated the perils of oil drilling in the Arctic.', 18: 'Oil companies cannot currently drill safely in the foreboding conditions of the Arctic, and drilling expansion could prove disastrous for this sensitive environment, he said.', 19: 'Bedevilled by problems', 20: 'The Kulluks woes began on Friday, when the Shell ship towing it south experienced a mechanical failure and lost its connection to the drill vessel.', 21: 'That ship, the Aivik, was reattached to the Kulluk early on Monday morning, as was a tug sent to the scene by the operator of the Trans Alaska Pipeline System. But the Aivik lost its link Monday afternoon, and the tugs crew could only try to guide the drill ship to a position where, if it grounded, it would have the least amount of impact to the environment, Montoya said.', 22: 'The tug Alert intentionally disconnected about 30 minutes before the ground for the protection of the nine crew members aboard the tug.', 23: 'The Kulluk was used by Shell in September and October to drill a prospect in the Beaufort Sea. It was being taken to Seattle for the off season when the problems began on Friday.', 24: 'Susan Childs, emergency incident commander for Shell, held out hope that a significant spill from the drill ship was unlikely.', 25: 'The unique design of the Kulluk means the diesel fuel tanks are isolated in the center in the vessel and encased in very heavy steel, she told the news conference.', 26: 'Shell is waiting for weather to moderate to begin a complete assessment of the Kulluk, she said. We hope to ultimately recover the Kulluk with minimal or no damage to the environment.', 27: 'The Kulluk was built in 1983 and had been slated to be scrapped before Shell bought it in 2005. The company has spent $292 million since then to upgrade the vessel.', 28: 'Shells Arctic campaign has been bedevilled by problems. A second drill ship, the Discoverer, was briefly detained in December by the Coast Guard in Seward, Alaska, because of safety concerns. A mandatory oil-containment barge, the Arctic Challenger, failed for months to meet Coast Guard requirements for seaworthiness and a ship mishap resulted in damage to a critical piece of equipment intended to cap a blown well.'}\n"
     ]
    }
   ],
   "source": [
    "##### 去除br\n",
    "import requests\n",
    "from bs4 import BeautifulSoup\n",
    "\n",
    "res = requests.get('http://www.voanews.com/a/reuters-alaska-shell-oil-ship-aground-in-alaska/1576055.html')\n",
    "\n",
    "soup = BeautifulSoup(res.text,'lxml')\n",
    "\n",
    "for push in soup.select(\"span\"):\n",
    "    push.extract()\n",
    "    \n",
    "for push in soup.select(\"div.wsw > div\"):\n",
    "    push.extract()\n",
    "\n",
    "for push in soup.select(\"div.wsw > img\"):\n",
    "    push.extract()\n",
    "    \n",
    "for push in soup.select(\"div.wsw > p.caption\"):\n",
    "    push.extract()\n",
    "\n",
    "contents = soup.select('div.wsw')\n",
    "\n",
    "articles_dict = {}\n",
    "\n",
    "\n",
    "#.replace('','')\n",
    "for page in range(len(str(contents).split('<br/>\\n<br/>'))):\n",
    "    \n",
    "    articles_dict[page+1] = str(contents).split('<br/>\\n<br/>')[page].replace('\\n', '').replace('\\'', '').replace('<p>', '').replace('</p>', '').replace('[','').replace(']','').replace('\"','').replace('<div class=\"wsw\">', '').replace('</div>','').replace('<em>','').replace('</em>','').replace('<strong>','').replace('</strong>','').strip()\n",
    "    \n",
    "print(articles_dict)\n",
    "    "
   ]
  },
  {
   "cell_type": "code",
   "execution_count": 5,
   "metadata": {
    "collapsed": false
   },
   "outputs": [],
   "source": [
    "test = {\n",
    "    '1': 'Ian',\n",
    "}\n",
    "for a in test:\n",
    "    test[a] = '1'"
   ]
  },
  {
   "cell_type": "code",
   "execution_count": 9,
   "metadata": {
    "collapsed": false
   },
   "outputs": [
    {
     "data": {
      "text/plain": [
       "'1'"
      ]
     },
     "execution_count": 9,
     "metadata": {},
     "output_type": "execute_result"
    }
   ],
   "source": [
    "test['1']"
   ]
  },
  {
   "cell_type": "code",
   "execution_count": 565,
   "metadata": {
    "collapsed": true
   },
   "outputs": [
    {
     "name": "stdout",
     "output_type": "stream",
     "text": [
      "{1: '[<p>U.S. Secretary of State Rex Tillerson heads to Moscow on April 12, just days after the United States launched missile strikes on a Syrian airbase in response to a Syrian chemical weapons attack that killed civilians.</p>, <p>Officials say the top U.S. diplomat will urge Russia to rethink its continued support for the Syrian government of Bashar al-Assad.', 2: 'Britain’s foreign minister, Boris Johnson, said on Saturday he had canceled a visit to Moscow that was scheduled for April 10. “Developments in Syria have changed the situation fundamentally,” said Johnson in a statement.', 3: 'Secretary of State Tillerson is scheduled to travel to Moscow on Wednesday, after he attends the G7 Foreign Ministers’ Meeting in Italy from April 9 to 11.', 4: \"The State Department did not respond to VOA’s inquiry on whether Tillerson’s Moscow trip has been changed or canceled since the U.S. military strikes. But as of Sunday, a meeting with Russian President Vladimir Putin has been removed from Tillerson's Moscow schedule.\", 5: 'Analysts say Washington needs the diplomatic follow-up, though, after the military action.', 6: 'The top U.S. diplomat, known as a man of few words, had harsh comments for Russia, which Washington blamed for failing to rein in its ally, Syrian leader Bashar al-Assad.<br/>\\n</p>, <p><br/>\\n“Either Russia has been complicit or Russia has been simply incompetent,” said Tillerson on Thursday night. He was referring to the Kremlin’s failure to prevent the Assad government from allegedly conducting a poison gas attack that killed scores of people in rebel-held Idlib province.', 7: \"In 2013, the Syrian government agreed to surrender its chemical weapons under the supervision of the Russia government. Prior to the recent gas attack, Tillerson said Assad's future would be decided by the Syrian people. After the attack, he took aim at Assad’s government and Russia's support for him.\", 8: 'Experts said the U.S. military strike could complicate Tillerson’s diplomatic mission to Moscow, and that an escalation of tensions between the U.S. and Russia over the future of Assad also is possible.', 9: '“For sure this means further immediate bumps in the bilateral relationship,” former U.S. Ambassador to Ukraine John Herbst told VOA.', 10: 'He said despite the fact that the missile strikes were quite limited and Washington had warned Moscow ahead of time so that Russian soldiers would not be in danger, Moscow’s reaction was rather strong.', 11: \"Herbst, now director of the Atlantic Council's Dinu Patriciu Eurasia Center, said Russia’s decision to suspend the de-confliction mechanism, which is intended to avoid accidents, was not well considered.\", 12: '“While de-confliction serves the interest of both U.S. and Russian, it is more important to Moscow” because U.S. conventional forces are far superior and “Russian forces are more at risk in case of an incident,” said Herbst.', 13: '“The strikes undoubtedly change the tone of the conversation, given the de-confliction protocols, between Russia and the U.S. have been suspended in Syria,” Michael Kofman from Center for Naval Analyses told VOA.', 14: 'Professor Doga Ulas Eralp of American University in Washington told VOA on Friday that Tillerson “now has to scramble to broker a deal” that would allow a sustainable coordination mechanism between the two countries “if the U.S. is determined to escalate its military engagement in Syria.”', 15: 'Middle East Institute scholar Daniel Serwer told VOA the military strikes “shoot the Syria agenda item to the top.” The key question is whether Tillerson can get something going with the Russians on a political solution in Syria,” he added.', 16: 'Former U.S. officials say the Syrian chemical attack is a major challenge to the nascent relationship between the Trump administration and the Kremlin.', 17: \"“It is vital that the U.S. corrects course and that the current administration moves quickly from a set of alarming and ignorant comments to having a real policy and strategy for managing and mitigating Putin's negative impacts on world peace and security,” said former U.S. ambassador to the Organization for Security and Cooperation in Europe Daniel Baer.\", 18: 'Alexei Arbatov, director of the Center of International Security at the Institute of World Economy and International Relations in Moscow, told VOA’s Russian service that while the U.S. missile strike in Syria complicates U.S.-Russian relations, “the reaction of the Russian Foreign Ministry thus far has been quite restrained, and it is not rejecting the possibility of agreements and cooperation with the United States.”', 19: 'While Washington is willing to work with Moscow in areas of practical cooperation, the State Department said Secretary Tillerson will make it clear the U.S. is committed to holding Russia accountable when international norms are violated.</p>, <p> </p>]'}\n"
     ]
    }
   ],
   "source": [
    "res = requests.get('http://www.voanews.com/a/tillerson-heads-to-moscow-days-after-us-missile-strikes-in-syria-anger-russia/3802152.html')\n",
    "\n",
    "soup = BeautifulSoup(res.text,'lxml')\n",
    "\n",
    "for push in soup.select(\"span\"):\n",
    "    push.extract()\n",
    "    \n",
    "for push in soup.select(\"div.wsw > div\"):\n",
    "    push.extract()\n",
    "\n",
    "contents = soup.select('div.wsw > p')\n",
    "\n",
    "articles_dict = {}\n",
    "\n",
    "for br in range(len(str(contents).split('<br/>\\n<br/>'))):\n",
    "    \n",
    "     articles_dict[br+1] = str(contents).split('<br/>\\n<br/>')[br].strip()\n",
    "        \n",
    "print(articles_dict)\n",
    "\n",
    "\n"
   ]
  },
  {
   "cell_type": "code",
   "execution_count": 559,
   "metadata": {
    "collapsed": true
   },
   "outputs": [
    {
     "data": {
      "text/plain": [
       "[<p>U.S. Secretary of State Rex Tillerson heads to Moscow on April 12, just days after the United States launched missile strikes on a Syrian airbase in response to a Syrian chemical weapons attack that killed civilians.</p>,\n",
       " <p>Officials say the top U.S. diplomat will urge Russia to rethink its continued support for the Syrian government of Bashar al-Assad.<br/>\n",
       " <br/>\n",
       " Britain’s foreign minister, Boris Johnson, said on Saturday he had canceled a visit to Moscow that was scheduled for April 10. “Developments in Syria have changed the situation fundamentally,” said Johnson in a statement.<br/>\n",
       " <br/>\n",
       " Secretary of State Tillerson is scheduled to travel to Moscow on Wednesday, after he attends the G7 Foreign Ministers’ Meeting in Italy from April 9 to 11.<br/>\n",
       " <br/>\n",
       " The State Department did not respond to VOA’s inquiry on whether Tillerson’s Moscow trip has been changed or canceled since the U.S. military strikes. But as of Sunday, a meeting with Russian President Vladimir Putin has been removed from Tillerson's Moscow schedule.<br/>\n",
       " <br/>\n",
       " Analysts say Washington needs the diplomatic follow-up, though, after the military action.<br/>\n",
       " <br/>\n",
       " The top U.S. diplomat, known as a man of few words, had harsh comments for Russia, which Washington blamed for failing to rein in its ally, Syrian leader Bashar al-Assad.<br/>\n",
       " </p>,\n",
       " <p><br/>\n",
       " “Either Russia has been complicit or Russia has been simply incompetent,” said Tillerson on Thursday night. He was referring to the Kremlin’s failure to prevent the Assad government from allegedly conducting a poison gas attack that killed scores of people in rebel-held Idlib province.<br/>\n",
       " <br/>\n",
       " In 2013, the Syrian government agreed to surrender its chemical weapons under the supervision of the Russia government. Prior to the recent gas attack, Tillerson said Assad's future would be decided by the Syrian people. After the attack, he took aim at Assad’s government and Russia's support for him.<br/>\n",
       " <br/>\n",
       " Experts said the U.S. military strike could complicate Tillerson’s diplomatic mission to Moscow, and that an escalation of tensions between the U.S. and Russia over the future of Assad also is possible. <br/>\n",
       " <br/>\n",
       " “For sure this means further immediate bumps in the bilateral relationship,” former U.S. Ambassador to Ukraine John Herbst told VOA.<br/>\n",
       " <br/>\n",
       " He said despite the fact that the missile strikes were quite limited and Washington had warned Moscow ahead of time so that Russian soldiers would not be in danger, Moscow’s reaction was rather strong.<br/>\n",
       " <br/>\n",
       " Herbst, now director of the Atlantic Council's Dinu Patriciu Eurasia Center, said Russia’s decision to suspend the de-confliction mechanism, which is intended to avoid accidents, was not well considered.<br/>\n",
       " <br/>\n",
       " “While de-confliction serves the interest of both U.S. and Russian, it is more important to Moscow” because U.S. conventional forces are far superior and “Russian forces are more at risk in case of an incident,” said Herbst.<br/>\n",
       " <br/>\n",
       " “The strikes undoubtedly change the tone of the conversation, given the de-confliction protocols, between Russia and the U.S. have been suspended in Syria,” Michael Kofman from Center for Naval Analyses told VOA.<br/>\n",
       " <br/>\n",
       " Professor Doga Ulas Eralp of American University in Washington told VOA on Friday that Tillerson “now has to scramble to broker a deal” that would allow a sustainable coordination mechanism between the two countries “if the U.S. is determined to escalate its military engagement in Syria.”<br/>\n",
       " <br/>\n",
       " Middle East Institute scholar Daniel Serwer told VOA the military strikes “shoot the Syria agenda item to the top.” The key question is whether Tillerson can get something going with the Russians on a political solution in Syria,” he added.<br/>\n",
       " <br/>\n",
       " Former U.S. officials say the Syrian chemical attack is a major challenge to the nascent relationship between the Trump administration and the Kremlin.<br/>\n",
       " <br/>\n",
       " “It is vital that the U.S. corrects course and that the current administration moves quickly from a set of alarming and ignorant comments to having a real policy and strategy for managing and mitigating Putin's negative impacts on world peace and security,” said former U.S. ambassador to the Organization for Security and Cooperation in Europe Daniel Baer.<br/>\n",
       " <br/>\n",
       " Alexei Arbatov, director of the Center of International Security at the Institute of World Economy and International Relations in Moscow, told VOA’s Russian service that while the U.S. missile strike in Syria complicates U.S.-Russian relations, “the reaction of the Russian Foreign Ministry thus far has been quite restrained, and it is not rejecting the possibility of agreements and cooperation with the United States.”<br/>\n",
       " <br/>\n",
       " While Washington is willing to work with Moscow in areas of practical cooperation, the State Department said Secretary Tillerson will make it clear the U.S. is committed to holding Russia accountable when international norms are violated.</p>,\n",
       " <p> </p>]"
      ]
     },
     "execution_count": 559,
     "metadata": {},
     "output_type": "execute_result"
    }
   ],
   "source": [
    "contents"
   ]
  },
  {
   "cell_type": "code",
   "execution_count": 566,
   "metadata": {
    "collapsed": false
   },
   "outputs": [
    {
     "data": {
      "text/plain": [
       "19"
      ]
     },
     "execution_count": 566,
     "metadata": {},
     "output_type": "execute_result"
    }
   ],
   "source": [
    "len(str(contents).split('<br/>\\n<br/>'))"
   ]
  },
  {
   "cell_type": "code",
   "execution_count": 582,
   "metadata": {
    "collapsed": false,
    "scrolled": true
   },
   "outputs": [
    {
     "name": "stdout",
     "output_type": "stream",
     "text": [
      "{1: 'U.S. Secretary of State Rex Tillerson heads to Moscow on April 12, just days after the United States launched missile strikes on a Syrian airbase in response to a Syrian chemical weapons attack that killed civilians., Officials say the top U.S. diplomat will urge Russia to rethink its continued support for the Syrian government of Bashar al-Assad.', 2: 'Britain’s foreign minister, Boris Johnson, said on Saturday he had canceled a visit to Moscow that was scheduled for April 10. “Developments in Syria have changed the situation fundamentally,” said Johnson in a statement.', 3: 'Secretary of State Tillerson is scheduled to travel to Moscow on Wednesday, after he attends the G7 Foreign Ministers’ Meeting in Italy from April 9 to 11.', 4: \"The State Department did not respond to VOA’s inquiry on whether Tillerson’s Moscow trip has been changed or canceled since the U.S. military strikes. But as of Sunday, a meeting with Russian President Vladimir Putin has been removed from Tillerson's Moscow schedule.\", 5: 'Analysts say Washington needs the diplomatic follow-up, though, after the military action.', 6: 'The top U.S. diplomat, known as a man of few words, had harsh comments for Russia, which Washington blamed for failing to rein in its ally, Syrian leader Bashar al-Assad.\\n, \\n“Either Russia has been complicit or Russia has been simply incompetent,” said Tillerson on Thursday night. He was referring to the Kremlin’s failure to prevent the Assad government from allegedly conducting a poison gas attack that killed scores of people in rebel-held Idlib province.', 7: \"In 2013, the Syrian government agreed to surrender its chemical weapons under the supervision of the Russia government. Prior to the recent gas attack, Tillerson said Assad's future would be decided by the Syrian people. After the attack, he took aim at Assad’s government and Russia's support for him.\", 8: 'Experts said the U.S. military strike could complicate Tillerson’s diplomatic mission to Moscow, and that an escalation of tensions between the U.S. and Russia over the future of Assad also is possible.', 9: '“For sure this means further immediate bumps in the bilateral relationship,” former U.S. Ambassador to Ukraine John Herbst told VOA.', 10: 'He said despite the fact that the missile strikes were quite limited and Washington had warned Moscow ahead of time so that Russian soldiers would not be in danger, Moscow’s reaction was rather strong.', 11: \"Herbst, now director of the Atlantic Council's Dinu Patriciu Eurasia Center, said Russia’s decision to suspend the de-confliction mechanism, which is intended to avoid accidents, was not well considered.\", 12: '“While de-confliction serves the interest of both U.S. and Russian, it is more important to Moscow” because U.S. conventional forces are far superior and “Russian forces are more at risk in case of an incident,” said Herbst.', 13: '“The strikes undoubtedly change the tone of the conversation, given the de-confliction protocols, between Russia and the U.S. have been suspended in Syria,” Michael Kofman from Center for Naval Analyses told VOA.', 14: 'Professor Doga Ulas Eralp of American University in Washington told VOA on Friday that Tillerson “now has to scramble to broker a deal” that would allow a sustainable coordination mechanism between the two countries “if the U.S. is determined to escalate its military engagement in Syria.”', 15: 'Middle East Institute scholar Daniel Serwer told VOA the military strikes “shoot the Syria agenda item to the top.” The key question is whether Tillerson can get something going with the Russians on a political solution in Syria,” he added.', 16: 'Former U.S. officials say the Syrian chemical attack is a major challenge to the nascent relationship between the Trump administration and the Kremlin.', 17: \"“It is vital that the U.S. corrects course and that the current administration moves quickly from a set of alarming and ignorant comments to having a real policy and strategy for managing and mitigating Putin's negative impacts on world peace and security,” said former U.S. ambassador to the Organization for Security and Cooperation in Europe Daniel Baer.\", 18: 'Alexei Arbatov, director of the Center of International Security at the Institute of World Economy and International Relations in Moscow, told VOA’s Russian service that while the U.S. missile strike in Syria complicates U.S.-Russian relations, “the reaction of the Russian Foreign Ministry thus far has been quite restrained, and it is not rejecting the possibility of agreements and cooperation with the United States.”', 19: 'While Washington is willing to work with Moscow in areas of practical cooperation, the State Department said Secretary Tillerson will make it clear the U.S. is committed to holding Russia accountable when international norms are violated.,'}\n"
     ]
    }
   ],
   "source": [
    "test1 = {}\n",
    "\n",
    "for a in range(len(str(contents).split('<br/>\\n<br/>'))):\n",
    "    \n",
    "    test1[a+1] = str(contents).split('<br/>\\n<br/>')[a].replace('</p>', '').replace('<p>', '').replace('<br/>', '').replace('[', '').replace(']', '').replace('/n', '').strip()\n",
    "    \n",
    "print(test1)"
   ]
  },
  {
   "cell_type": "code",
   "execution_count": 580,
   "metadata": {
    "collapsed": false
   },
   "outputs": [
    {
     "data": {
      "text/plain": [
       "(19, dict)"
      ]
     },
     "execution_count": 580,
     "metadata": {},
     "output_type": "execute_result"
    }
   ],
   "source": [
    "len(articles_dict),type(articles_dict)"
   ]
  },
  {
   "cell_type": "code",
   "execution_count": 583,
   "metadata": {
    "collapsed": false
   },
   "outputs": [
    {
     "data": {
      "text/plain": [
       "{1: 'U.S. Secretary of State Rex Tillerson heads to Moscow on April 12, just days after the United States launched missile strikes on a Syrian airbase in response to a Syrian chemical weapons attack that killed civilians., Officials say the top U.S. diplomat will urge Russia to rethink its continued support for the Syrian government of Bashar al-Assad.',\n",
       " 2: 'Britain’s foreign minister, Boris Johnson, said on Saturday he had canceled a visit to Moscow that was scheduled for April 10. “Developments in Syria have changed the situation fundamentally,” said Johnson in a statement.',\n",
       " 3: 'Secretary of State Tillerson is scheduled to travel to Moscow on Wednesday, after he attends the G7 Foreign Ministers’ Meeting in Italy from April 9 to 11.',\n",
       " 4: \"The State Department did not respond to VOA’s inquiry on whether Tillerson’s Moscow trip has been changed or canceled since the U.S. military strikes. But as of Sunday, a meeting with Russian President Vladimir Putin has been removed from Tillerson's Moscow schedule.\",\n",
       " 5: 'Analysts say Washington needs the diplomatic follow-up, though, after the military action.',\n",
       " 6: 'The top U.S. diplomat, known as a man of few words, had harsh comments for Russia, which Washington blamed for failing to rein in its ally, Syrian leader Bashar al-Assad.\\n, \\n“Either Russia has been complicit or Russia has been simply incompetent,” said Tillerson on Thursday night. He was referring to the Kremlin’s failure to prevent the Assad government from allegedly conducting a poison gas attack that killed scores of people in rebel-held Idlib province.',\n",
       " 7: \"In 2013, the Syrian government agreed to surrender its chemical weapons under the supervision of the Russia government. Prior to the recent gas attack, Tillerson said Assad's future would be decided by the Syrian people. After the attack, he took aim at Assad’s government and Russia's support for him.\",\n",
       " 8: 'Experts said the U.S. military strike could complicate Tillerson’s diplomatic mission to Moscow, and that an escalation of tensions between the U.S. and Russia over the future of Assad also is possible.',\n",
       " 9: '“For sure this means further immediate bumps in the bilateral relationship,” former U.S. Ambassador to Ukraine John Herbst told VOA.',\n",
       " 10: 'He said despite the fact that the missile strikes were quite limited and Washington had warned Moscow ahead of time so that Russian soldiers would not be in danger, Moscow’s reaction was rather strong.',\n",
       " 11: \"Herbst, now director of the Atlantic Council's Dinu Patriciu Eurasia Center, said Russia’s decision to suspend the de-confliction mechanism, which is intended to avoid accidents, was not well considered.\",\n",
       " 12: '“While de-confliction serves the interest of both U.S. and Russian, it is more important to Moscow” because U.S. conventional forces are far superior and “Russian forces are more at risk in case of an incident,” said Herbst.',\n",
       " 13: '“The strikes undoubtedly change the tone of the conversation, given the de-confliction protocols, between Russia and the U.S. have been suspended in Syria,” Michael Kofman from Center for Naval Analyses told VOA.',\n",
       " 14: 'Professor Doga Ulas Eralp of American University in Washington told VOA on Friday that Tillerson “now has to scramble to broker a deal” that would allow a sustainable coordination mechanism between the two countries “if the U.S. is determined to escalate its military engagement in Syria.”',\n",
       " 15: 'Middle East Institute scholar Daniel Serwer told VOA the military strikes “shoot the Syria agenda item to the top.” The key question is whether Tillerson can get something going with the Russians on a political solution in Syria,” he added.',\n",
       " 16: 'Former U.S. officials say the Syrian chemical attack is a major challenge to the nascent relationship between the Trump administration and the Kremlin.',\n",
       " 17: \"“It is vital that the U.S. corrects course and that the current administration moves quickly from a set of alarming and ignorant comments to having a real policy and strategy for managing and mitigating Putin's negative impacts on world peace and security,” said former U.S. ambassador to the Organization for Security and Cooperation in Europe Daniel Baer.\",\n",
       " 18: 'Alexei Arbatov, director of the Center of International Security at the Institute of World Economy and International Relations in Moscow, told VOA’s Russian service that while the U.S. missile strike in Syria complicates U.S.-Russian relations, “the reaction of the Russian Foreign Ministry thus far has been quite restrained, and it is not rejecting the possibility of agreements and cooperation with the United States.”',\n",
       " 19: 'While Washington is willing to work with Moscow in areas of practical cooperation, the State Department said Secretary Tillerson will make it clear the U.S. is committed to holding Russia accountable when international norms are violated.,'}"
      ]
     },
     "execution_count": 583,
     "metadata": {},
     "output_type": "execute_result"
    }
   ],
   "source": [
    "test1"
   ]
  },
  {
   "cell_type": "code",
   "execution_count": null,
   "metadata": {
    "collapsed": true
   },
   "outputs": [],
   "source": []
  },
  {
   "cell_type": "code",
   "execution_count": null,
   "metadata": {
    "collapsed": true
   },
   "outputs": [],
   "source": []
  },
  {
   "cell_type": "code",
   "execution_count": 585,
   "metadata": {
    "collapsed": false
   },
   "outputs": [],
   "source": [
    "def crawlPage(url):\n",
    "    res = requests.get(url)\n",
    "\n",
    "    soup = BeautifulSoup(res.text,'lxml')\n",
    "\n",
    "    for push in soup.select(\"span\"):\n",
    "        push.extract()\n",
    "\n",
    "    for push in soup.select(\"div.wsw > div\"):\n",
    "        push.extract()\n",
    "\n",
    "    contents = soup.select('div.wsw > p')\n",
    "\n",
    "    articles_dict = {}\n",
    "\n",
    "    for br in range(len(str(contents).split('<br/>\\n<br/>'))):\n",
    "\n",
    "         articles_dict[br+1] = str(contents).split('<br/>\\n<br/>')[br].strip()\n",
    "\n",
    "    print(articles_dict)\n"
   ]
  },
  {
   "cell_type": "code",
   "execution_count": 586,
   "metadata": {
    "collapsed": false
   },
   "outputs": [
    {
     "name": "stdout",
     "output_type": "stream",
     "text": [
      "{1: '[<p class=\"caption\">Shell Oil incident commander Susan Childs, second from right, answers a question about the grounding of the drill ship Kulluk at a press conference, Monday, Dec. 31, 2012 in Anchorage.</p>]'}\n"
     ]
    }
   ],
   "source": [
    "crawlPage('http://www.voanews.com/a/reuters-alaska-shell-oil-ship-aground-in-alaska/1576055.html')"
   ]
  },
  {
   "cell_type": "code",
   "execution_count": null,
   "metadata": {
    "collapsed": true
   },
   "outputs": [],
   "source": []
  },
  {
   "cell_type": "code",
   "execution_count": null,
   "metadata": {
    "collapsed": true
   },
   "outputs": [],
   "source": []
  },
  {
   "cell_type": "code",
   "execution_count": 127,
   "metadata": {
    "collapsed": false
   },
   "outputs": [
    {
     "name": "stdout",
     "output_type": "stream",
     "text": [
      "{'date': 'January 01, 2013'}\n",
      "{'date': 'January 01, 2013'}\n",
      "{'date': 'January 01, 2013'}\n",
      "{'date': 'January 01, 2013'}\n",
      "{'date': 'January 01, 2013'}\n",
      "{'date': 'January 01, 2013'}\n",
      "{'date': 'January 01, 2013'}\n",
      "{'date': 'January 01, 2013'}\n",
      "{'date': 'January 01, 2013'}\n",
      "{'date': 'January 01, 2013'}\n"
     ]
    }
   ],
   "source": [
    "import requests\n",
    "import datetime\n",
    "import time\n",
    "\n",
    "from bs4 import BeautifulSoup\n",
    "\n",
    "url = 'http://www.voanews.com'\n",
    "\n",
    "res = requests.get(url +\"/z/599/2013/1/1\")\n",
    "\n",
    "soup = BeautifulSoup(res.text, 'lxml')\n",
    "\n",
    "articles_dict = {}\n",
    "\n",
    "#soup.select('span.date')\n",
    "\n",
    "for usa in soup.select('span.date'):\n",
    "    \n",
    "    #links = usa.select_one('a')['href']\n",
    "\n",
    "    articles_dict['date'] = usa.text\n",
    "    \n",
    "    #articles_dict['links'] = url + links\n",
    "    \n",
    "    #crawlPage(url + links)\n",
    "    \n",
    "    print(articles_dict)"
   ]
  },
  {
   "cell_type": "code",
   "execution_count": 80,
   "metadata": {
    "collapsed": false
   },
   "outputs": [
    {
     "data": {
      "text/plain": [
       "str"
      ]
     },
     "execution_count": 80,
     "metadata": {},
     "output_type": "execute_result"
    }
   ],
   "source": [
    "type(str(soup.select('span.date')))"
   ]
  },
  {
   "cell_type": "code",
   "execution_count": 137,
   "metadata": {
    "collapsed": false
   },
   "outputs": [],
   "source": [
    "def crawlPage(url):\n",
    "    \n",
    "    res = requests.get(url)\n",
    "    \n",
    "    soup = BeautifulSoup(res.text,'lxml')\n",
    "\n",
    "    ## 去除非文字部分\n",
    "        #player-and-links\n",
    "        #infgraphicsAttach\n",
    "    for push in soup.select(\"span\"):\n",
    "        push.extract()\n",
    "    \n",
    "    for push in soup.select(\"div.wsw > div\"):\n",
    "        push.extract()\n",
    "      \n",
    "    contents = soup.select('div.wsw')\n",
    "\n",
    "    articles_dict = {}\n",
    "\n",
    "    for page in range(len(contents)):\n",
    "    \n",
    "        articles_dict[page+1] = contents[page].text.replace('\\n', '').replace('\\'', '').replace('\\'', '').strip()\n",
    "    \n",
    "    return articles_dict"
   ]
  },
  {
   "cell_type": "code",
   "execution_count": 138,
   "metadata": {
    "collapsed": false
   },
   "outputs": [
    {
     "data": {
      "text/plain": [
       "{'date': 'January 01, 2013'}"
      ]
     },
     "execution_count": 138,
     "metadata": {},
     "output_type": "execute_result"
    }
   ],
   "source": [
    "articles_dict"
   ]
  },
  {
   "cell_type": "code",
   "execution_count": 139,
   "metadata": {
    "collapsed": false
   },
   "outputs": [],
   "source": [
    "import json\n",
    "ttt = crawlPage('http://www.voanews.com/a/reuters-alaska-shell-oil-ship-aground-in-alaska/1576055.html')\n",
    "jsObj = json.dumps(ttt)  \n",
    "newsText = open('e://voaUrl/12321.txt','a',encoding='utf-8')  \n",
    "newsText.write(jsObj)  \n",
    "newsText.close()"
   ]
  },
  {
   "cell_type": "code",
   "execution_count": null,
   "metadata": {
    "collapsed": true
   },
   "outputs": [],
   "source": []
  }
 ],
 "metadata": {
  "kernelspec": {
   "display_name": "Python 3",
   "language": "python",
   "name": "python3"
  },
  "language_info": {
   "codemirror_mode": {
    "name": "ipython",
    "version": 3
   },
   "file_extension": ".py",
   "mimetype": "text/x-python",
   "name": "python",
   "nbconvert_exporter": "python",
   "pygments_lexer": "ipython3",
   "version": "3.6.0"
  }
 },
 "nbformat": 4,
 "nbformat_minor": 2
}
