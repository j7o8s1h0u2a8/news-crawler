{
 "cells": [
  {
   "cell_type": "code",
   "execution_count": 54,
   "metadata": {
    "collapsed": false
   },
   "outputs": [],
   "source": [
    "import requests\n",
    "from urllib.request import urlopen\n",
    "from bs4 import BeautifulSoup\n",
    "import pickle\n",
    "import json"
   ]
  },
  {
   "cell_type": "code",
   "execution_count": 55,
   "metadata": {
    "collapsed": false
   },
   "outputs": [],
   "source": [
    "def crawlPage(url):\n",
    "    \n",
    "    res = requests.get(url)\n",
    "    \n",
    "    soup = BeautifulSoup(res.text,'lxml')\n",
    "\n",
    "    for push in soup.select(\"span\"):\n",
    "        push.extract()\n",
    "\n",
    "    for push in soup.select(\"div.wsw > div\"):\n",
    "        push.extract()\n",
    "\n",
    "    for push in soup.select(\"div.wsw > img\"):\n",
    "        push.extract()\n",
    "\n",
    "    for push in soup.select(\"div.wsw > p.caption\"):\n",
    "        push.extract()\n",
    "    \n",
    "    contents = soup.select('div.wsw')\n",
    "\n",
    "    articles_dict = {}\n",
    "\n",
    "    #.replace('','')\n",
    "    for page in range(len(str(contents).split('<br/>\\n<br/>'))):\n",
    "\n",
    "        articles_dict[page+1] = str(contents).split('<br/>\\n<br/>')[page].replace('\\n', '').replace('\\'', '').replace('<p>', '').replace('</p>', '').replace('<div class=wsw>', '').replace('</div>','').replace('<em>','').replace('</em>','').replace('<strong>','').replace('</strong>','').strip()\n",
    "       \n",
    "        return articles_dict"
   ]
  },
  {
   "cell_type": "code",
   "execution_count": 56,
   "metadata": {
    "collapsed": false
   },
   "outputs": [],
   "source": [
    "f = open('e://voaUrl/test_url.txt','rt')\n",
    "lines = f.readlines()\n",
    "  \n",
    "for i in lines:\n",
    "    html = urlopen(i)\n",
    "\n",
    "    soup = BeautifulSoup(html, 'lxml')\n",
    "        \n",
    "    articles_dict = {}\n",
    "    \n",
    "    url = 'http://www.voanews.com'\n",
    "    \n",
    "    #日期\n",
    "    for usa in soup.select('span.date'):\n",
    "        \n",
    "        articles_dict['date'] = usa.text\n",
    "\n",
    "    for usa in soup.select('#ordinaryItems > li > div'):\n",
    "    \n",
    "        links = usa.select_one('a')['href']\n",
    "    \n",
    "        articles_dict['title'] = usa.select_one('a')['title']\n",
    "        \n",
    "        articles_dict['source'] = 'VOA'\n",
    "        \n",
    "        articles_dict['links'] = url + links\n",
    "    \n",
    "        articles_dict['contents'] = crawlPage(url + links)\n",
    "    \n",
    "        #print(articles_dict)\n",
    "\n",
    "        jsObj = json.dumps(articles_dict,ensure_ascii=False)  \n",
    "        newsText = open('e://voaUrl/test_contents.txt','a',encoding='utf-8')  \n",
    "        newsText.write(jsObj)  \n",
    "        newsText.close() "
   ]
  },
  {
   "cell_type": "code",
   "execution_count": null,
   "metadata": {
    "collapsed": true
   },
   "outputs": [],
   "source": []
  },
  {
   "cell_type": "code",
   "execution_count": 1,
   "metadata": {
    "collapsed": false
   },
   "outputs": [],
   "source": [
    "##### 取代多數字串\n",
    "\n",
    "list = ['\\t','\\n','\\b','.']\n",
    "def trans(text,list,counter):\n",
    "    if counter > len(list)-1:\n",
    "        return text\n",
    "    else:\n",
    "        text = text.replace(list[counter],'')\n",
    "        counter+=1\n",
    "        return trans(text,list,counter)\n",
    "        "
   ]
  },
  {
   "cell_type": "code",
   "execution_count": 3,
   "metadata": {
    "collapsed": false
   },
   "outputs": [],
   "source": [
    "text = '\\nasdfasf\\t'"
   ]
  },
  {
   "cell_type": "code",
   "execution_count": 25,
   "metadata": {
    "collapsed": false
   },
   "outputs": [
    {
     "data": {
      "text/plain": [
       "str"
      ]
     },
     "execution_count": 25,
     "metadata": {},
     "output_type": "execute_result"
    }
   ],
   "source": [
    "type(trans(text,list,0))"
   ]
  },
  {
   "cell_type": "code",
   "execution_count": 17,
   "metadata": {
    "collapsed": false
   },
   "outputs": [
    {
     "data": {
      "text/plain": [
       "str"
      ]
     },
     "execution_count": 17,
     "metadata": {},
     "output_type": "execute_result"
    }
   ],
   "source": [
    "type(text)"
   ]
  },
  {
   "cell_type": "code",
   "execution_count": 15,
   "metadata": {
    "collapsed": true
   },
   "outputs": [],
   "source": [
    "def clear(text):\n",
    "    list = ['\\t','\\n','\\b','.']\n",
    "    text = text.replace(list,'')\n",
    "    print(text)\n",
    "    return text"
   ]
  },
  {
   "cell_type": "code",
   "execution_count": null,
   "metadata": {
    "collapsed": true
   },
   "outputs": [],
   "source": []
  },
  {
   "cell_type": "markdown",
   "metadata": {},
   "source": [
    "# 測試"
   ]
  },
  {
   "cell_type": "code",
   "execution_count": null,
   "metadata": {
    "collapsed": true
   },
   "outputs": [],
   "source": []
  },
  {
   "cell_type": "code",
   "execution_count": 77,
   "metadata": {
    "collapsed": true
   },
   "outputs": [],
   "source": [
    "def crawlPage(url):\n",
    "    \n",
    "    res = requests.get(url)\n",
    "    \n",
    "    soup = BeautifulSoup(res.text,'lxml')\n",
    "\n",
    "    for push in soup.select(\"span\"):\n",
    "        push.extract()\n",
    "\n",
    "    for push in soup.select(\"div.wsw > div\"):\n",
    "        push.extract()\n",
    "\n",
    "    for push in soup.select(\"div.wsw > img\"):\n",
    "        push.extract()\n",
    "\n",
    "    for push in soup.select(\"div.wsw > p.caption\"):\n",
    "        push.extract()\n",
    "    \n",
    "    \n",
    "\n",
    "    contents = soup.select('div.wsw')\n",
    "\n",
    "    articles_dict = {}\n",
    "\n",
    "    #.replace('','')\n",
    "    for page in range(len(str(contents).split('<br/>\\n<br/>'))):\n",
    "\n",
    "        articles_dict[page+1] = str(contents).split('<br/>\\n<br/>')[page]\n",
    "\n",
    "    return articles_dict"
   ]
  },
  {
   "cell_type": "code",
   "execution_count": 81,
   "metadata": {
    "collapsed": false
   },
   "outputs": [
    {
     "name": "stdout",
     "output_type": "stream",
     "text": [
      "{'date': 'January 01, 2013', 'title': 'CAR Negotiations May Not Be Possible', 'source': 'VOA', 'links': 'http://www.voanews.com/a/negotiations_in_central_african_republic_might_not_be_possible/1575880.html', 'contents': {1: '[<div class=\"wsw\">\\n\\nThe Central African Republic capital of Bangui remained tense Tuesday as rebels threatened to take the last major government stronghold, the city of Damara, just 75 kilometers away. President Francois Bozize said he is willing to negotiate a unity government. However, rebels say he must go. It remains to be seen whether or not a negotiated solution is still possible.', 2: '\\nRegional leaders are trying to organize peace talks in Gabon on January 10 between the government of the Central African Republic and a northern rebel alliance known as Seleka that has seized a third of the country in less than three weeks.', 3: '\\nThe rebels continue to edge toward the capital from their southernmost position, the city of Sibut, which is 186 kilometers away.', 4: '\\n\\n\\nTheir demands have evolved from saying the government must implement peace accords signed between 2007 and 2011 to calling on President Francois Bozize to step down. The rebels say they were supposed to be paid to disarm or integrate into the government military.', 5: '\\nBozize said he is ready to negotiate as soon as possible to create a coalition government. He said he will not stand for re-election when his term ends in 2016.', 6: '\\n<strong>Government ready to deal</strong>', 7: '\\nGovernment minister and spokesman for the political coalition behind the president, Cyriaque Gonda, said a lack of funds derailed the disarmament process. He said the government is ready to discuss with rebels how to get it back on track. He added, though, the president resigning is out of the question.', 8: \"\\nGonda said this will be the rebels' last chance at the negotiating table.\", 9: '\\n\"This is going to be the last time. We want to put away in Central African Republic the words rebellion [and] politico-military. This is a lexicology that we have discovered here. We are going to put it down at any cost. But the bottom line is to try to create cohesion,\" said Gonda.', 10: '\\nResidents of Bangui say the rebels should come to the table.', 11: \"\\nA resident named Franck said that if the rebels are truly fighting for Central Africans, then they have made their demands, the president has accepted talks, so now they must begin negotiations. War, he said, cannot solve the country's problems. \", 12: \"\\n<strong>Questioning Bozize's trustworthiness</strong>\", 13: \"\\nBut the rebels say they don't trust Bozize.\", 14: '\\nIn the capital, political opposition leader and former prime minister Martin Ziguele said the president has a track record of breaking promises.', 15: \"\\nZiguele said the president seized power through a coup in 2003 and said he wouldn't run in elections, but then he did run. Ziguele said the president has since reneged on resolutions to the political class during a national dialogue in late 2008, including pledges to improve electoral transparency and to enlarge the government. Ziguele said he wants to believe Bozize, but he first needs to see some follow-through on at least one promise.\", 16: \"\\nA strict curfew and fears of a rebel invasion put a damper on New Year's festivities in Bangui as tensions run high.\", 17: '\\nDuring the night, a mob of youth set up a roadblock in a residential neighborhood where they reportedly stopped a Muslim man and beat him to death. Muslims are perceived to be from the now rebel-controlled north.', 18: '\\nThe government is accused of arresting hundreds of civilians in the capital this past week who are from ethnic groups from the north and therefore are perceived to be supporters of the rebellion.', 19: '\\n<strong>Shifting battle lines</strong>', 20: '\\nRebel spokesman Colonel Djouma Narkoyo said they will not negotiate until these people are released.', 21: '\\nHe said they want dialogue, but cannot go into talks under these conditions. He said the government needs to stop arresting people and release those who already have been taken.', 22: '\\nNarkoyo said they will not withdraw from captured territory before negotiations.', 23: '\\nThe rebels have broken multiple promises to stop advancing south, but blame the moves on attacks by government forces.', 24: \"\\nCentral African leaders have warned rebel fighters not to cross the frontline of Damara, about 75 kilometers, or an hour's drive, outside the capital. The African Union has threatened sanctions.\", 25: '\\nGovernment troops have been sorely outmatched so far by Seleka fighters.', 26: '\\nAt Damara, the national army is backed up by hundreds of Chadian troops and a regional peacekeeping force known as FOMAC. Reinforcements continued to arrive Tuesday from several neighboring countries, including Congo-Brazzaville and Gabon.', 27: '\\n<em>Jose Richard Pouambi contributed to this report in Bangui, Central African Republic.</em>\\n</div>]'}}\n",
      "{'date': 'January 01, 2013', 'title': 'DRC: Lynchings Increased After Prisoners Freed', 'source': 'VOA', 'links': 'http://www.voanews.com/a/drc-lynching-icreased-after-prisoners-freed/1575823.html', 'contents': {1: '[<div class=\"wsw\">\\n\\nIn the Democratic Republic of Congo, civil society activists say lynch mobs have killed nine suspected criminals in the eastern city of Goma since November. The activists blame the surge of so-called \"popular justice\" on the authorities\\' failure to track down and detain more than 1,100 inmates who were allowed to escape prison.', 2: '\\nLynchings were not uncommon in Goma even before rebel group M23 took control of the city in November and left it in early December. But since then, civil society and government leaders say there’s been an increase in the number of suspected criminals killed by mobs.', 3: '\\nJean Pascal Mugaruka is acting head of civil society for the city of Goma. He tells VOA that since late November at least nine people have been burned alive because they were caught stealing or were caught in possession of stolen property.', 4: '\\nAccording to Mugaruka, people have been taking the law into their own hands because the justice system isn’t working and they were frustrated that more than 1,100 prisoners were let out of jail.', 5: '\\nThey were also taking revenge for abuses suffered at the hands of the M23 rebels, he said.', 6: '\\nSeveral sources told VOA that the prisoners in the central jail were released by soldiers on November 20, just before the Congolese army abandoned Goma to the rebels.', 7: '\\nFor most of December the jail was unused, but in the past two weeks some of the detention blocks have been reopened.', 8: '\\nThere is an operational prison now in Goma, says Mugaruka, so lynch law can no longer be tolerated, even though the justice system is not yet fully operational, and the military tribunal which hears soldiers’ cases is not yet back in action.', 9: '\\nHe says civil society has spoken out against lynchings and is planning awareness-raising activities to campaign against the practice.', 10: '\\nGoma civil society groups are calling on the authorities to track down the escaped prisoners, most of whom were soldiers convicted of armed robbery.', 11: '\\nSo far, says Mugaruka, less than 20 of the escaped convicts are back in the central jail, but the authorities are searching for the others.', 12: '\\nHe says the military police have offered $100 to anyone providing information leading to the arrest of an escaped convict, and the authorities have also organized mixed patrols of soldiers and police who are tracking down bandits, while others have been shot dead by the military police.', 13: '\\nThe head of the justice department in Goma, Lidia Masika, confirmed there had been an upsurge of lynchings in the city since the prisoners were released from the central jail.', 14: '\\nMasika told VOA that there were currently only three escaped convicts back in the jail, all men who had given themselves up voluntarily. She said another group was being held at police and military jails elsewhere in the town, awaiting formal charges, but she could not say how many.', 15: '\\nUnited Nations Radio in the Congo reported that fifty suspects, including some escaped convicts, were arrested during police raids in Goma late last month. ', 16: '\\nMass escapes from prison have been occurring regularly in the DRC in the past few years.', 17: '\\nMugaruka says prisoners sometimes escape with the complicity of prison managers, who take bribes from prisoners’ relatives. He says political influence can also lead to breakouts.', 18: '\\nA United Nations source who preferred to withhold her name said she was glad the prisoners had escaped, as some were in danger of dying from malnutrition.', 19: '\\nMugaruka said there had been cases of prisoners dying for lack of food in Goma’s jail. He said some food was provided in the prison, but not enough, and the stronger prisoners took more than their share.\\n</div>]'}}\n",
      "{'date': 'January 01, 2013', 'title': 'At Least 60 People Crushed to Death in Ivory Coast Stampede', 'source': 'VOA', 'links': 'http://www.voanews.com/a/reuters-scores-of-people-crushed-to-death-in-ivory-coast-stampede/1575793.html', 'contents': {1: '[<div class=\"wsw\">\\nAbout 60 people were crushed to death in a stampede outside a stadium in Ivory Coast\\'s main city of Abidjan after a New Year\\'s Eve fireworks display, the government said on Tuesday.', 2: '\\nThe incident took place near Felix Houphouet Boigny Stadium where a crowd had gathered to watch fireworks, emergency officials said. One of the injured, speaking to Reuters at a hospital, said security forces had arrived to break up the crowd, triggering a panic in which many people fell over and were trampled.', 3: '\\n\"The provisional death toll is 60 and there are 49 injured,\" Interior Minister Hamed Bakayoko said in a statement broadcast on national television.', 4: '\\nPresident Alassane Ouattara, visiting injured people at the hospital, called the incident a national tragedy and said an investigation was underway to determine what happened.', 5: '\\nA Reuters correspondent said blood stains and abandoned shoes littered the scene outside the stadium on Tuesday morning.', 6: '\\n\"My two children came here yesterday,\" said Assetou Toure, a cleaner who still does not know if her children had escaped unhurt. \"I told them not to come but they didn\\'t listen. They came when I was sleeping. What will I do?\"', 7: '\\nThe incident was the worst of its kind in Abidjan since 2010, when a stampede at a stadium during a football match killed 18 people.', 8: '\\nIvory Coast, once a stable economic hub for West Africa, is struggling to recover from a 2011 civil war in which more than 3,000 people were killed.\\n</div>]'}}\n",
      "{'date': 'January 01, 2013', 'title': '60 Killed in Ivory Coast Stampede', 'source': 'VOA', 'links': 'http://www.voanews.com/a/sixty-people-crushed-to-death-in-ivory-coast/1575660.html', 'contents': {1: '[<div class=\"wsw\">\\nOfficials in Ivory Coast say at least 60 people were crushed to death during a stampede at a New Year\\'s celebration in Abidjan.', 2: '\\nRescue workers say about 50 others were injured in the incident early Tuesday near a stadium in the Plateau district, where hundreds of thousands of people had gathered to watch fireworks.', 3: '\\nMost of those killed were children and teenagers. The government says it is investigating what caused the stampede. President Alassane Ouattara calls it a national tragedy.', 4: '\\n\\n\\nIvorian journalist Landry Kohon said that two large waves of people, moving in opposite directions, bumped into each other on a narrow street.', 5: '\\nAnother witness, Amara Traore, said that law enforcement blocked an exit in the area, which kept the crowd from moving.', 6: '\\nBoth Kohon and Traore said ambulances had trouble reaching the victims.', 7: '\\n\"It\\'s a national tragedy, of course, and I really hope that we will push ourselves to investigate to see what could have been prevented, this tragedy, so that it will never happen again,\" said Ouattara.', 8: '\\n<p>\\n<em>Some information for this report was provided by Reuters.</em></p>\\n</div>]'}}\n",
      "{'date': 'January 01, 2013', 'title': 'World Leaders Mark New Year ', 'source': 'VOA', 'links': 'http://www.voanews.com/a/1575648.html', 'contents': {1: '[<div class=\"wsw\">\\n</div>]'}}\n",
      "{'date': 'January 01, 2013', 'title': 'Rebels Threaten Capital Despite Unity Offer in CAR', 'source': 'VOA', 'links': 'http://www.voanews.com/a/rebels-threaten-capital-despite-unity-offer-in-car/1575632.html', 'contents': {1: '[<div class=\"wsw\">\\nResidents are anxiously celebrating the new year in the Central African Republic where a tense standoff is under way between the government and rebels who are threatening to invade the capital, Bangui.', 2: '\\nA strict dusk to dawn curfew remains in place in Bangui Tuesday.', 3: '\\nFighters for a coalition of three rebel groups, known as Seleka, are holding positions about 75 kilometers outside the city. The rebels say they may still push into the capital, despite an offer from President Francois Bozize to form a unity government.', 4: '\\nThe rebels began their lightening offensive in the north on December 10 and have since captured about a third of the country, including several major cities.', 5: '\\nThe Seleka coalition has accused President Bozize of failing to honor a 2007 agreement that included provisions for its fighters to be reintegrated and paid, after they laid down their arms in a previous uprising.', 6: \"\\nAfter meeting with African Union chief Thomas Yayi Boni on Sunday, Bozize said he was willing to join with the rebels in governing the country. But the media quoted representatives for the rebel alliance Monday as calling for outside intervention in the crisis and accusing the president's government of persecuting political foes in Bangui.\", 7: \"\\nThe C.A.R. is a former French colony, and Paris normally has about 250 troops stationed there as part of a peacekeeping mission. In recent days, the French government has increased that number to nearly 600, but it insists they are only there to protect France's interests and nationals and not intervene in the war.\", 8: '\\nAlso, dozens of troops from the neighboring Republic of Congo began arriving in Bangui late Monday as part of an effort to increase the presence of a multi-national regional military force.', 9: '\\nOn Monday, French President Francois Hollande called for an opening of dialogue between the government and \"all parties present,\" including rebels.', 10: '\\nMeanwhile, the U.S. said it was deeply concerning about C.A.R.\\'s \"deteriorating security situation.\" In a statement released late Monday, State Department spokeswoman Victoria Nuland said the U.S. is urging government forces to respect human rights and rebels to \"cease hostilities and movements towards the capital.\"', 11: '\\nC.A.R. has been plagued by insecurity for decades. President Bozize came to power during a 2003 coup.\\n</div>]'}}\n",
      "{'date': 'January 02, 2013', 'title': 'CAR President Fires Defense Minister, Army Chief', 'source': 'VOA', 'links': 'http://www.voanews.com/a/central-african-republic-bozize-fires-defense-minister-army-chief/1576693.html', 'contents': {1: '[<div class=\"wsw\">\\nCentral African Republic President Francois Bozize has fired his son as defense minister and fired the army chief of staff, after a string of victories by rebel forces.', 2: \"\\nThe firings were announced in a decree read over state radio Wednesday. The decree said Bozize is taking the defense minister's post for himself.\", 3: '\\nThe dramatic move comes as the rebels seem poised to move on the capital. A coalition of rebel groups known as Seleka captured several major towns and cities last month and is positioned less than 200 kilometers from the capital, Bangui.', 4: '\\nEarlier Wednesday, a central African regional force created a buffer zone between the capital and the rebel stronghold of Sibut. VOA correspondent Anne Look, who is in the CAR, reports that about 500 soldiers from Chad, Gabon and the Republic of Congo assembled Wednesday in the town of Damara.', 5: '\\nThe head of the regional force, General Jean Felix Akaga, warned the rebels Wednesday that to attack Damara would be a \"declaration of war\" against the 10-nation Economic Community of Central African States.', 6: '\\nHe also said government troops are not to advance beyond Damara to attack the rebels.', 7: '\\n\\n<br/>\\nBoth the rebels and the CAR government have indicated they are ready for peace talks. Regional leaders are trying to organize talks that would take place in Gabon on January 10. ', 8: '\\nIn the capital Wednesday, supporters of President Bozize set up roadblocks and checked vehicles in the capital to stop a feared rebel incursion. Rumors have been circulating in Bangui that the rebels are trying to infiltrate the city.', 9: '\\nPresident Bozize has led the Central African Republic since seizing power in a 2003 coup.', 10: '\\nSeleka accuses him of failing to implement peace deals that ended an earlier rebellion, and is demanding that the president step down.\\n</div>]'}}\n",
      "{'date': 'January 02, 2013', 'title': '2 Jordanian Peacekeepers Freed After Kidnapping in Darfur', 'source': 'VOA', 'links': 'http://www.voanews.com/a/jordanian-peacekeepers-freed-kidnapping-darfur-reuters/1576570.html', 'contents': {1: '[<div class=\"wsw\">\\nTwo Jordanian peacekeepers abducted in Darfur four months ago were freed on Wednesday, the international force overseeing the conflict-torn region said.\\n\\n\\n\\n\\n\\n\\n\\n\\n\\n</div>]'}}\n",
      "{'date': 'January 02, 2013', 'title': 'Ethiopia Breaks Up Islamist Militant Cell', 'source': 'VOA', 'links': 'http://www.voanews.com/a/reuters-ethiopia-says-it-broke-up-islamist-militant-cell/1576497.html', 'contents': {1: '[<div class=\"wsw\">\\n\\nEthiopian police have arrested 15 suspected militants allegedly trained by Islamist rebels in neighbouring Somalia and who were plotting attacks in Ethiopia, the country\\'s intelligence agency said on Wednesday.', 2: '\\nThe arrests were the latest in a crackdown on what senior officials say is a growing threat from militant Islam in Ethiopia, a Horn of Africa nation predominantly comprised of Orthodox Christians and a large minority of Muslims.', 3: '\\nThe would-be militants were caught following a 20-day sting operation while they plotted to set up cells in the eastern town of Harar and in Kemise in the northeast, the National Intelligence and Security Service (NISS) said.', 4: '\\n\"Members of the group were recruited, trained and armed by Somalia\\'s al Shabaab and their aim was to wage Jihad [holy war] and stage attacks inside the country,\\'\\' an NISS statement said, aired by the state-run Ethiopian Television.', 5: \"\\nAddis Ababa has sent troops to Somalia to help other African countries battling to crush al Shabaab's six-year insurgency.\", 6: '\\nThe suspects, whose nationalities were not disclosed, were said to have crossed into Ethiopia from Somalia and Kenya.', 7: '\\nWednesday\\'s TV report showed police displaying large amounts of arms including rifles and grenades, as well as black flags with Arabic inscriptions. The report said CDs and video tapes of \"jihadist messages\\'\\' were also seized during the operation.', 8: \"\\nOn Tuesday, an Ethiopian court convicted 10 other militants of preparing strikes on political and economic targets in Ethiopia with the help of Somalia's al Qaeda-allied al Shabaab.\", 9: '\\nMuslims in Ethiopia staged several mass protests last year against perceived interference in Islamic affairs. Several leaders of a committee that led the protests now face trial.', 10: '\\nEthiopia fought Islamist rebels in Somalia in 2006-2009 and sent troops back in 2011 to fight al Shabaab, opening a third front alongside Kenyan troops and an African Union mission.', 11: '\\nThe onslaught on rebels in Somalia has gained ground in the past two years. Al Shabaab withdrew from the southern port of Kismayu in September, its last major urban stronghold, heralding its demise as a quasi-conventional military force.\\n</div>]'}}\n",
      "{'date': 'January 02, 2013', 'title': 'Many Kenyans Remained Displaced', 'source': 'VOA', 'links': 'http://www.voanews.com/a/kenya-displacement-2jan13/1576487.html', 'contents': {1: '[<div class=\"wsw\">\\nA lot of people were displaced in Kenya in 2012. A year-end report says hundreds of thousands remained or were newly displaced by many causes.', 2: '\\n\\n<br/>\\nThe Internal Displacement Monitoring Center says displacement is not new to Kenya. Since independence in 1963, it says the country has been caught in a “quagmire of armed conflict, localized violence, sudden and slow onset disasters, political factors and development projects.” This includes violence triggered by ethnicity, land and water resources, cattle and drought.', 3: '\\nClare Spurrell, the center’s chief spokesperson, called it a “toxic cocktail” of conditions within Kenya.', 4: '\\n“The situation in 2012 is complicated. Obviously, the situation in Kenya with regards to displacement has been complicated for many years. At the beginning of 2012 it was estimated that some 300,000 people remained displaced within the country. And by the end of November it was estimated that about 118,000 had been newly displaced,” she said.', 5: '\\nHowever, she said, those figures don’t tell the whole story.', 6: '\\n“What’s important, I think, to recognize with these figures is that they tend to be a gross underestimation. And the reason for that is that there’s a real distinct lack of formal processes within Kenya by their national authorities to really identify and understand IDPs – where they are, who they are and what they need,” she said.', 7: '\\nSpurrell said that Kenya has lacked an adequate profiling system. But a new policy has just taken effect to better help the internally displaced. However, she’s concerned about its implementation. Something else that may help the displaced is the Kampala Convention, which took effect in Africa late last year.', 8: '\\n“The Kampala Convention is the first continental treaty, which aims to protect internally displaced people throughout the whole continent of Africa. And Kenya is yet to adopt it. But the advantage of Kenya adopting it – and we hope it will do in the future – is that there will be more of a regional policing mechanism. So, we hope that the countries, that have signed up and that have adopted it, will be able to work together to really support people, who have been forced to flee their homes and remain trapped within their countries,” she said.', 9: '\\nCurrently, many of those officially listed as internally displaced became so following the 2007/2008 election violence. But Spurrell said there’s one segment of the Kenyan population that is often displaced and not recognized as such.', 10: '\\n“Eighty percent of the land in Kenya is considered arid or semi-arid land. There’s been increasing drought over the years, particularly affecting pastoralist communities in the north. And this group tend not to be considered as internally displaced when they are forced to flee because they’re considered nomadic. So, we know that the increasing drought has increased tension within these communities; and they’re becoming increasingly dependent on aid. And they’re increasingly fighting over resources,” she said.', 11: '\\nThe center’s latest assessment indicates many displaced people are facing deteriorating conditions.', 12: '\\n“Particularly those who were displaced in the last round of election violence. A large majority of them remain living in camp conditions. Shelter is a particular concern. They’re still living under UNHCR tents or tarpaulins that were provided five years ago. We know that women are [at] particular risk of rape and sexual abuse. And obviously the children are not being educated. This is particularly affecting secondary schools – slightly older generation of children. These are the future of Kenya,” she said.', 13: '\\nThe Internal Displacement Monitoring Center adds that while violence and the threat of violence increase in Kenya, donor funding for peace and reconciliation programs is drying up. It says funding tends to focus on humanitarian assistance during the beginning of an emergency, but not so much once the situation is stabilized. It says it’s essential that inter-communal tensions and land and property disputes are addressed as soon as possible – especially as the March elections draw near.\\n</div>]'}}\n",
      "{'date': 'January 02, 2013', 'title': 'Regional Troops Warn C.A.R. Rebels to Stop Advance', 'source': 'VOA', 'links': 'http://www.voanews.com/a/african-troops-take-position-between-car-rebels-army/1576415.html', 'contents': {1: '[<div class=\"wsw\">\\n\\nThe government of the Central African Republic and a rebel coalition in the north appear to be moving closer to regionally mediated talks planned for next week. In the meantime, a Central African regional force continued to reinforce its position outside the capital, Bangui, on Wednesday, warning both the government and the rebels that further hostilities would not be tolerated. ', 2: '\\nAbout 500 Central African regional troops amassed in and around the town of Damara on Wednesday, creating a buffer zone between government forces and the Seleka rebel coalition that has seized one-third of the country in the past three weeks.', 3: '\\nThe head of the regional force known as FOMAC, General Jean Felix Akaga, said his soldiers will not give up Damara, which is just 75 kilometers north of the capital, Bangui. ', 4: '\\nHe says if the rebels attack Damara, that would amount to a declaration of war and would mean that they have decided to engage the 10 member states of the Economic Community of Central African States, the regional body that sent the FOMAC force.', 5: '\\nGeneral Akaga said FOMAC troops are also preventing government troops from advancing north to engage the rebels. He said Damara is secure and the situation is calm and \"status quo.\"', 6: \"\\nThe idea is to stop hostilities and open the way for talks in Gabon's capital, Libreville, on January 10.\", 7: '\\nBoth sides say they are ready for negotiations.', 8: '\\nThe rebels have been in Sibut, about 180 kilometers from the capital, since Saturday. They are once again pledging to halt their advance to pave the way for talks. They have broken previous promises but said they were only advancing when attacked by government troops.', 9: '\\nIn Damara Wednesday, the road through town was calm except for 32 pickup trucks laden with heavily armed Chadian soldiers.', 10: '\\n\\n<br/>\\nChadian troops are here as part of the regional FOMAC force. Additional troops from the Republic of Congo and Gabon were deploying from Bangui to Damara Wednesday.', 11: \"\\nMany of Damara's mud-brick homes are shuttered in the neighborhood of Ndeo. The few residents remaining said they have sent their families to the bush to wait out the crisis. \", 12: '\\nResident Andjipassera Bertin says they have had enough of rebellion. He says their wives, their children, their relatives are suffering out in the bush. It is cold at night, he says, and there are lots of mosquitoes.', 13: '\\nResidents said the hospital and the market have closed so they have no way to get medicine and food. They are living off wild yams.', 14: '\\nSeleka unites four rebel groups that began fighting the government between 2005 and 2006.', 15: '\\nTheir demands have evolved from saying the government must implement peace accords signed between 2007 and 2011 to calling on President Francois Bozize to step down. The rebels say they were supposed to be paid to disarm or integrate into the government military.', 16: '\\nPresident Bozize says he is ready for unconditional talks to create a coalition government.\\n</div>]'}}\n",
      "{'date': 'January 02, 2013', 'title': 'Bozize Supporters Build Roadblocks in CAR Capital', 'source': 'VOA', 'links': 'http://www.voanews.com/a/bozize_supporters_build_roadblocks_in_car_capital/1576321.html', 'contents': {1: '[<div class=\"wsw\">\\nSupporters of Central African Republic President Francois Bozize have set up roadblocks in the capital, Bangui, saying they want to stop any rebel incursion.', 2: '\\nFrench media reports say young men describing themselves as \"patriots\" are manning checkpoints where they stop vehicles and question occupants in a search for rebel fighters.', 3: '\\nThe rebel coalition known as Seleka has taken several major towns and cities, including one less than 200 kilometers from the capital.', 4: '\\nReuters news agency quotes a rebel spokesman, Eric Massi, as saying Seleka has halted its advance because the rebels want to open talks with the government.', 5: '\\n\\n<br/>\\nCentral African leaders are trying to organize peace talks that would take place in Gabon on January 10.', 6: '\\nThe regional leaders have warned the rebels against taking the town of Damara, just 75 kilometers north of Bangui.', 7: \"\\nMeantime, Chad, the Republic of Congo and Gabon have sent troops to Bangui to protect the capital and back up the C.A.R.'s national army.\", 8: '\\nPresident Bozize has led the Central African Republic since seizing power in a 2003 coup.', 9: '\\n<p>\\n<em>Some information for this report was provided by AFP and Reuters.</em></p>\\n</div>]'}}\n",
      "{'date': 'January 02, 2013', 'title': 'Ivory Coast Mourns Stampede Victims ', 'source': 'VOA', 'links': 'http://www.voanews.com/a/1576252.html', 'contents': {1: '[<div class=\"wsw\">\\nThe Ivory Coast is holding three days of national mourning, following a stampede that killed at least 60 New Year\\'s revelers.\\n</div>]'}}\n",
      "{'date': 'January 02, 2013', 'title': 'Ivory Coast Mourns Stampede Victims', 'source': 'VOA', 'links': 'http://www.voanews.com/a/ivory-coast-mourns-stampede-victims/1576204.html', 'contents': {1: '[<div class=\"wsw\">\\nThe Ivory Coast began three days of national mourning, on Wednesday, after a stampede led the deaths of at least 60 New Year\\'s revelers, many of them teenagers.', 2: '\\nMany of the victims were crushed to death or suffocated during the incident, which took place in Abidjan, on Tuesday. ', 3: '\\nInvestigators are not certain what prompted the stampede, which occurred near a stadium where hundreds of thousands of people had gathered to watch fireworks.', 4: '\\nIn 2009, a stampede at the same stadium left 22 people dead.', 5: '\\nOn Tuesday, Ivorian journalist Landry Kohon told VOA that two large waves of people, moving in opposite directions, bumped into each other on a narrow street.', 6: '\\nAnother witness, Amara Traore, said that law enforcement blocked an exit in the area, which kept the crowd from moving.', 7: '\\nAlso, some witnesses said the large crowd may have reacted to thieves who were trying to pickpocket or snatch items from revelers.', 8: '\\nAt least 50 people were wounded in the incident. On Tuesday, President Alassane Ouattara visited some of the victims at a hospital.', 9: '\\n\\n</div>]'}}\n",
      "{'date': 'January 03, 2013', 'title': 'No S. Sudan Oil Exports Until at Least March', 'source': 'VOA', 'links': 'http://www.voanews.com/a/no-south-sudan-oil-exports-until-march-reuters/1577326.html', 'contents': {1: '[<div class=\"wsw\">\\n\\n\\n\\n\\n\\n\\n\\n\\n\\n\\n\\n\\n\\n\\n\\n\\n\\n\\n\\n\\n\\n\\n\\n\\n\\n\\n\\n\\n\\n\\n\\n\\n\\n\\n\\n\\n\\n\\n\\n\\n\\n\\n\\n\\n\\n\\n\\n\\n</div>]'}}\n",
      "{'date': 'January 03, 2013', 'title': 'Project Brings Literacy to Tanzanian Children', 'source': 'VOA', 'links': 'http://www.voanews.com/a/a-womans-journey/1577131.html', 'contents': {1: '[<div class=\"wsw\">\\nAshley Holmer is the founder and executive director of the <a class=\"underline\" href=\"http://www.redsweaterproject.org/\" target=\"_blank\">Red Sweater Project </a>– named for the most important garment of the school children supported by the effort. The organization strives to create educational opportunities for children in rural parts of Tanzania, by helping communities to build schools, train teachers and develop curricula. ', 2: '\\nThe project began in 2005 when Holmer moved to the East African country to work as an English teacher as well as a soccer coach in a Masai village, Monduli juu. The village chairman from a nearby community offered her 20 acres of land, upon which she built the community’s first secondary school, which today educates over 140 students.', 3: '\\nEight years later, she again partnered with the villagers of Mungere to build another secondary school on 15 acres of donated land. ', 4: '\\nBuilding schools is just part of the challenge. Unlike primary education, secondary schooling is not free and government tuition fees can be quite high. There are shortages of qualified teachers, and students have many hurdles: schools may be many miles away, too far to travel by foot. The project aims to lower fees and helps recruit and train teachers.', 5: '\\nSome families can not spare their children from work at home. Most children are needed to help their parents by herding livestock or farming. As a result, approximately 18 percent of children in Tanzania enroll in secondary school, but only about seven percent graduate.', 6: '\\nGirls have specific reasons for not attending, including early marriage. Holmer says in most cases, 13-year-old girls who are not in school get married by age 14 and give birth a year later.', 7: '\\nThose who are lucky enough to attend school often face threats. Quoting a recent study, Holmer says a majority of the girls fall victim to sexual abuse, often perpetrated by school administrators. Most of the girls entering these institutions, according to Holmer, suffer under traditions that fail to value women as much as men.', 8: '\\nThe Red Sweater Project founded by Holmer attempts to create a school environment that values girls as much as boys and provides mentorship and health outreach services for students.', 9: '\\n\\n\\nSince the color red is closely associated with the Massai tribe in Tanzania, in appreciation and respect to the tribe the project chose red to be the official uniform of the students.', 10: '\\nOver the years, the Red Sweater Project has gained the support of community members who have donated land and resources and work hand in hand with the project. Holmer says it’s these partnerships that help guarantee success. She points out the importance of inquiry and consultation with local villagers about the needs and the goal of the intervention. ', 11: '\\n“Our project is not here to provide but to create educational opportunities by working in conjunction with the community. It’s their land, and they are in charge. They are involved in the development and construction of the schools. Our role is to facilitate,” Holmer explains.', 12: '\\nShe acknowledges that her years in Tanzania have involved encountering – and overcoming – challenges. Holmer points out that the country has over 120 tribes, each requiring different approaches to educational hurdles. ', 13: '\\n“You have to treat and change depending on what is acceptable and what is not,” she says. “You are dealing with centuries of history and tradition. You also have to realize you make mistakes and be open to learn from it.”', 14: '\\nIt also helps to learn the language. Holmer says Tanzanians appreciate the fact that she took the time to learn Swahili. ', 15: '\\n“When you stand up in front of village leaders,” she says, “how you speak can say a lot about you. They realize we have a lot of differences but with good communication in the end they realize we are working for the same goal.”', 16: '\\nHolmer says her proudest moments include seeing buildings finished and teachers with full classes. As classroom voices ring out she realizes that, if not for the Red Sweater Project, thousands of students would not have the opportunity to learn, and live better lives.', 17: '\\n\\n</div>]'}}\n",
      "{'date': 'January 03, 2013', 'title': \"Violence Against Egypt's Women Worries Activists \", 'source': 'VOA', 'links': 'http://www.voanews.com/a/rising-violence-against-egyptian-women-worries-rights-activists/1577020.html', 'contents': {1: '[<div class=\"wsw\">\\n\\nWomen played a major role in the revolution that brought down Egypt\\'s old government. But nearly two years on, many say they have seen little reward. In terms of physical security, activists say the plight of women is getting worse.', 2: '\\n\"There have been so many cases of mobbing, of sexual assault and recently also gang rape cases,\" notes Heba Morayef, the Egypt director of Human Rights Watch. \"And the response to that of course has been zero response from the government,” she adds.', 3: '\\nActivists say efforts to get the government to help women have failed. Psychologist Farah Shash of the Nadim Center in Cairo works with victims of sexual violence.', 4: '\\n\"Whenever we discuss women’s issues in the parliament or public debate, they would say it is not a priority, that we don’t believe that women protection and participation is a priority, with what is going on now with the revolution and the political system and so on,” Shash explains.', 5: \"\\nWhile women's rights were shaky under the old system, legal experts say the nation's new constitution, passed amid controversy last month, further erodes civil guarantees.\", 6: '\\n\"Many of the lines in the constitution -- they didn\\'t try to say things specifically for women to defend their rights,” complains a young woman who was among many to take to the streets to protest out of concern.', 7: '\\nIn addition to passing protective laws, rights groups say it will take an overhaul of an education system that portrays women in subservient roles, an economy that leaves many young people jobless and a society that tends to blame the victim for the assault. ', 8: '\\nSome civic groups are offering women protection at rallies and other vulnerable areas. Psychologist Shash says the trend may help raise awareness, but the thinking behind it is misguided. ', 9: '\\n\"Women cannot move with human shields all the time in the Egyptian street,\" notes Shash. \"We need to know that the system is protecting us. We need to know that men do not see us as sexual objects walking on the street.” ', 10: '\\nThe growing number of cases where “protectors” have attacked suspects is a worrying development, rights advocates say.', 11: '\\n\"This new license that\\'s been given to private citizens to become involved in violence is an even more dangerous one,\" Morayef says. \"Because you see a weakening of the role of the state and honestly this opens the door to vigilantism moving forward.”', 12: \"\\nWhile rights groups view the Islamist government with a wary eye, they argue it is in everyone's interests, including the leaders', to take a greater role and step up security for women.\\n</div>]\"}}\n",
      "{'date': 'January 03, 2013', 'title': 'Armed Groups in DRC Agree to Ceasefire', 'source': 'VOA', 'links': 'http://www.voanews.com/a/armed_groups_in_drc_agree_to_ceasefire/1576977.html', 'contents': {1: '[<div class=\"wsw\">\\n\\nSeveral armed groups in the eastern part of the Democratic Republic of Congo have agreed to a ceasefire, and an alliance, after months of ethnic conflict. Observers say it is the first time the armed groups have reached such an extensive agreement, but they are worried that it may not last.', 2: '\\nThe village of Mashadi in Masisi territory has been on the front line of ethnic conflict between the Hutu and Hunde communities. On November 11 it was attacked by a Hutu militia, the Nyatura, who ransacked and burned the houses lived in by Hunde, but left all the Hutus’ houses untouched.', 3: '\\nThe local chief says 155 houses were destroyed and five people killed.', 4: '\\nThis has been a common pattern in Masisi this year as ethnic militias mainly from the Tembo, Hunde and Hutu communities have wreaked havoc across the territory. Many villages that used to have a mixed population are now empty or inhabited by only one ethnic group.', 5: '\\nBut last Saturday a government official, Ngwisha Mapendo, had news for the Hutu villagers who are still living at Mashadi.', 6: '\\nSpeaking at a village assembly he told them they could now have peace. He said he had been at a meeting on December 18 in which local authorities and other power holders had agreed on a ceasefire.', 7: '\\nSpeaking to VOA at Mashadi, Ngwisha explained that local people had approached armed group leaders and persuaded them to send representatives to the meeting where they arranged a ceasefire and a peace alliance.', 8: '\\nHe said that besides the Nyatura, other armed groups were represented at the meeting, included the APCLS (Alliance of Patriots for a Free and Sovereign Congo), the Raia Mutomboki (Angry Citizens alliance), and several so-called Mai-Mai groups.', 9: '\\n\\nTogether these groups account for the bulk of the militias in North Kivu province, apart from the M23 rebels and their allies and the Rwandan rebel FDLR (the Democratic Forces for the Liberation of Rwanda). ', 10: '\\nThe militia alliance held another meeting on December 27 at the APCLS headquarters at Nyabiondo, in the Hunde heartland.', 11: '\\nSpeaking to VOA at Nyabiondo shortly after that meeting, a representative of the Mai-Mai groups known as General Samson said they had agreed to work under the APCLS leader, known as General Janvier Buingo Karairi.', 12: '\\nSamson also said that if the government army was able to defeat the M23, the Mai-Mai would be ready to enroll in the army, and if it could not defeat the M23 on its own, the Mai-Mai would help. ', 13: '\\nSome local people think the ceasefire and the alliance are part of a government strategy.', 14: '\\nAimee Imoabita is a Hunde who had to flee his village and is now living at a displaced persons camp in Masisi Center, a town in the territory.', 15: '\\nHe said he knows the APCLS is now with the government because since that armed group came to the town it has not caused any trouble for the authorities or for local people. The APCLS do not kill people, he said, and they guard the population very well.', 16: '\\nOther displaced people at the camp, including Hutus, agreed.', 17: '\\nIt is clear that the APCLS and government troops are collaborating, although they were fighting each other until mid-November. Peace talks between the government and the M23 are due to restart in Kampala Friday. What is not clear is how the APCLS and the other armed groups will react if the government signs a deal with the M23, which captured and briefly occupied the provincial capital, Goma, in November.', 18: '\\nSpeaking to VOA at Nyabiondo, APCLS leader Janvier said it was unlikely the talks would end the war.', 19: '\\nHe said the M23 have demanded that five of their leaders be given generals’ ranks in the army and have made other demands that will be difficult for the government to accept.', 20: '\\nJanvier also said that he is not yet ready to enroll his troops in the army.', 21: '\\nHe said the government has given too many army posts to the enemy and he wants the government to expel the enemy from the army before his own troops enroll.', 22: '\\nActivists in North Kivu helped to broker the armed groups’ ceasefire. The president of North Kivu group, Thomas d’Aquin Muitu, praised their efforts.', 23: '\\nThey should be encouraged to continue their work, he said, because divisive forces are still active. But he said a bigger task still lies ahead, which is to persuade the armed groups to join the army.', 24: '\\nMeanwhile, the authorities are hoping they can persuade the Hunde and Hutu to live together in Masisi by relocating markets. Government official Ngwisha Mapendo told the villagers at Mashaki that a market would be moved to their village to encourage the Hunde to return.\\n</div>]'}}\n",
      "{'date': 'January 03, 2013', 'title': 'CAR President Sacks Defense Minister', 'source': 'VOA', 'links': 'http://www.voanews.com/a/car-president-sacks-defense-minister/1576975.html', 'contents': {1: '[<div class=\"wsw\">\\n\\nThe president of the Central African Republic has fired his son as defense minister and assumed the post himself following the failure of the army to fight off rebels who have seized a third of the country. ', 2: '\\nA presidential decree read on state radio late Wednesday announced that President Francois Bozize is taking over the defense ministry from his son, Jean Francis Bozize, who served as deputy defense minister.', 3: '\\nIt was also announced that army chief Guillaume Lapo would be leaving his post.', 4: '\\n<strong>Army failure </strong>', 5: \"\\nDuring his New Year's Eve address to the nation, just two days earlier, President Bozize had condemned the failure of the army in the north, which allowed rebel fighters to seize a third of the territory in less than three weeks.\", 6: '\\nSpeaking in the local Sango language, Bozize said he has always emphasized discipline and self-sacrifice to the army. He said the army failed in its mission to protect the population, leaving civilians to flee into the bush and live like animals.', 7: '\\nBozize -- a former army chief of staff himself -- now faces the greatest threat to his presidency since he seized power by military coup in 2003.', 8: \"\\nResidents of Bangui told VOA they don't see the point of this apparent overhaul of the military chain of command.\", 9: \"\\nOne resident says he worries it will just bring more instability to the armed forces. He says the president should not have taken on the role of defense minister himself but rather should appoint someone else. He says the president should know his own son and should never have put him in the post if he wasn't up to the job.\", 10: '\\n<strong>Decision questioned </strong>', 11: \"\\nOpposition politician Henri Pouzere said the president's move is too little, too late.\", 12: \"\\nPouzere says the army has already retreated in the face of the rebels and allowed them to get to Sibut, 180 kilometers from the capital. Changing the leadership now won't do much, he says. He says the army needs to be completely rebuilt into one the people can trust and the president, as the country's top leader, is ultimately responsible for its recent failings.\", 13: '\\n500 Central African regional troops have mounted a buffer line at Damara, about 75 kilometers from the capital. The head of that regional force says further hostilities by either side will not be tolerated.', 14: \"\\nBoth sides say they are ready to go to regionally mediated talks planned in Gabon's capital Libreville next week.\", 15: '\\nThe rebel coalition Seleka unites fighters from as many as four insurgent groups from the north who say the government went back on 2007 and 2008 peace accords that were supposed to pay rebels to disarm or integrate them into the national army.', 16: '\\nSeleka says President Bozize must step down.', 17: '\\nPresident Bozize says he is willing to form a coalition government but will finish out his second elected term which ends in 2016.', 18: '\\nSpeaking to VOA, a spokesman for the political coalition that backs the president said a transition without Bozize would just bring more instability to the country. ', 19: '\\nThe Central African Republic has been plagued by coup attempts, mutinies and rebellions since winning independence from France in 1960.', 20: '\\n<em>Jose Richard Pouambi contributed to this report in Bangui</em>\\n</div>]'}}\n",
      "{'date': 'January 03, 2013', 'title': 'NGO Accuses Sudan of Silencing Independent Voices ', 'source': 'VOA', 'links': 'http://www.voanews.com/a/sudan-ngo-crackdown/1576841.html', 'contents': {1: '[<div class=\"wsw\">\\nAn official of a Sudanese independent civil society organization has said his group will use legal means, including protest, to force the government to halt attacks on non-governmental organizations, or NGOs. ', 2: '\\nKhartoum shut down four rights groups last month and revoked the registration of the Al-Khatim Adlan Center for Enlightenment and Human Development, or KACE. ', 3: '\\nA ruling party official reportedly said that NGOs are free to operate, as long as they do not follow a “political agenda.” ', 4: '\\nAl-Baqir Mukhtar, director of KACE, said his group filed a legal petition Wednesday with the Sudan Human Rights Commission because all independent civil society groups in Sudan feel they are under attack. ', 5: '\\nMukhtar said the government shut down his organization without prior notice.', 6: '\\n“On the 31<sup>st</sup> of December, at about mid-day, a delegation of people from the Humanitarian Affairs [Aid] Commission, known also as HAC, without any prior notice, wanted to see me, and when I received them, they immediately showed me a letter. The letter simply said that the head of the national NGO within the commission decided to cancel your registration as an organization and to strike you off the register of organizations that are allowed to work in Sudan,” he said.', 7: '\\nMukhtar said the officials also asked him to surrender the keys to his office along with all equipment without giving any reason for their action. He said his office is now being guarded by security personnel from the national intelligence agency.', 8: '\\n\\n<br/>\\nMukhtar said he is not allowed to enter his office unless accompanied by officials from the Humanitarian Affairs Aid Commission. He said the government’s action is part of a plan to silence independent voices.', 9: '\\n“They don’t want anybody who will find a venue and the forum to tell truth to power. The civil society is the only body that is doing this job because the media is totally under the control of the government,” Mukhtar said.', 10: '\\nMukhtar said another reason for crackdown is the government’s view that such civil society groups are a voice of the West.', 11: '\\nHe denied claims by the government that independent NGOs have a “political agenda.”', 12: '\\n“We don’t follow any political agenda. If you speak about democracy, if you speak about peace, is that political agenda? We are civil society. We speak about cultural reforms; we speak about educational reform; we speak about peace through non-violence. If they consider this political, then they are wrong,” Mukhtar said.', 13: '\\nMukhtar said the government allegation that KACE has been receiving foreign donations without permission was made without clarity.', 14: '\\n“The government said that, but the government does not give any guideline as to how you get this approval. Is it before we apply for the funds, or is it after we applied and get the approval from the donor?” Mukhtar said.', 15: '\\nHe said civil society groups filed a lawsuit in 2006 against the government’s demand for approval before receiving any foreign donations, and that the suit has yet to be decided.', 16: '\\nMukhtar said top Sudanese lawyers have offered their services to KACE to challenge the government’s decision to revoke the group’s registration as an NGO.', 17: '\\n“All the top lawyers of Sudan came to our support, and they already prepared the petition and they handed it this [Wednesday] morning to the commissioner. So, we are going to follow the legal path until the constitutional court and, at the same time, we are going to campaign against this by a series of protests, memos and sit-ins until this decision is changed,” Mukhtar said.\\n</div>]'}}\n"
     ]
    }
   ],
   "source": [
    "f = open('e://voaUrl/test_url.txt','rt')\n",
    "lines = f.readlines()\n",
    "  \n",
    "for i in lines:\n",
    "    html = urlopen(i)\n",
    "\n",
    "    soup = BeautifulSoup(html, 'lxml')\n",
    "        \n",
    "    articles_dict = {}\n",
    "    \n",
    "    url = 'http://www.voanews.com'\n",
    "    \n",
    "    #日期\n",
    "    for usa in soup.select('span.date'):\n",
    "        \n",
    "        articles_dict['date'] = usa.text\n",
    "\n",
    "    for usa in soup.select('#ordinaryItems > li > div'):\n",
    "    \n",
    "        links = usa.select_one('a')['href']\n",
    "    \n",
    "        articles_dict['title'] = usa.select_one('a')['title']\n",
    "        \n",
    "        articles_dict['source'] = 'VOA'\n",
    "        \n",
    "        articles_dict['links'] = url + links\n",
    "    \n",
    "        articles_dict['contents'] = crawlPage(url + links)\n",
    "    \n",
    "        print(articles_dict)\n",
    "\n",
    "        jsObj = json.dumps(articles_dict)\n",
    "        newsText = open('e://voaUrl/test_contents.json','a',encoding='utf-8')  \n",
    "        newsText.write(jsObj)  \n",
    "        newsText.close() "
   ]
  },
  {
   "cell_type": "code",
   "execution_count": null,
   "metadata": {
    "collapsed": true
   },
   "outputs": [],
   "source": []
  }
 ],
 "metadata": {
  "kernelspec": {
   "display_name": "Python 3",
   "language": "python",
   "name": "python3"
  },
  "language_info": {
   "codemirror_mode": {
    "name": "ipython",
    "version": 3
   },
   "file_extension": ".py",
   "mimetype": "text/x-python",
   "name": "python",
   "nbconvert_exporter": "python",
   "pygments_lexer": "ipython3",
   "version": "3.6.0"
  }
 },
 "nbformat": 4,
 "nbformat_minor": 2
}
