{
 "cells": [
  {
   "cell_type": "code",
   "execution_count": 1,
   "metadata": {
    "collapsed": true
   },
   "outputs": [],
   "source": [
    "import requests\n",
    "from urllib.request import urlopen\n",
    "from bs4 import BeautifulSoup\n",
    "import pickle\n",
    "import json\n",
    "import datetime"
   ]
  },
  {
   "cell_type": "code",
   "execution_count": 30,
   "metadata": {
    "collapsed": true
   },
   "outputs": [],
   "source": [
    "def crawlPage(url):\n",
    "    \n",
    "    res = requests.get(url)\n",
    "    \n",
    "    soup = BeautifulSoup(res.text,'lxml')\n",
    "\n",
    "    ## 去除非文字部分\n",
    "        #player-and-links\n",
    "        #infgraphicsAttach\n",
    "    for push in soup.select(\"span\"):\n",
    "        push.extract()\n",
    "    \n",
    "    for push in soup.select(\"div.wsw > div\"):\n",
    "        push.extract()\n",
    "      \n",
    "    contents = soup.select('div.wsw')\n",
    "\n",
    "    articles_dict = {}\n",
    "\n",
    "    for page in range(len(contents)):\n",
    "    \n",
    "        articles_dict[page+1] = contents[page].text.replace('\\n', '').replace('\\'', '').replace('\\\"', '').strip()\n",
    "    \n",
    "    return articles_dict"
   ]
  },
  {
   "cell_type": "code",
   "execution_count": 4,
   "metadata": {
    "collapsed": false
   },
   "outputs": [],
   "source": [
    "f = open('e://voaUrl/_599_2016_url.txt','rt')\n",
    "lines = f.readlines()\n",
    "  \n",
    "for i in lines:\n",
    "    html = urlopen(i)\n",
    "\n",
    "    soup = BeautifulSoup(html, 'lxml')\n",
    "        \n",
    "    articles_dict = {}\n",
    "    \n",
    "    url = 'http://www.voanews.com'\n",
    "    \n",
    "    #日期\n",
    "    for date in soup.select('span.date'):\n",
    "        \n",
    "        articles_dict['date'] = datetime.datetime.strptime(date.text, \"%B %d, %Y\")\n",
    "\n",
    "    for usa in soup.select('#ordinaryItems > li > div'):\n",
    "    \n",
    "        links = usa.select_one('a')['href']\n",
    "    \n",
    "        articles_dict['title'] = usa.select_one('a')['title']\n",
    "        \n",
    "        articles_dict['source'] = 'VOA'\n",
    "        \n",
    "        articles_dict['links'] = url + links\n",
    "    \n",
    "        articles_dict['contents'] = crawlPage(url + links)\n",
    "    \n",
    "        #print(articles_dict)\n",
    "        \n",
    "        # 轉換日期為json格式\n",
    "        def date_handler(obj):\n",
    "            return obj.date().isoformat() if hasattr(obj, 'isoformat') else obj\n",
    "\n",
    "        jsObj = json.dumps(articles_dict,ensure_ascii=False,default=date_handler)\n",
    "        newsText = open('e://voaUrl/test_contents.txt','a',encoding='utf-8')\n",
    "        newsText.write(jsObj)  \n",
    "        newsText.close() "
   ]
  },
  {
   "cell_type": "code",
   "execution_count": 63,
   "metadata": {
    "collapsed": false
   },
   "outputs": [
    {
     "data": {
      "text/plain": [
       "'http://www.voanews.com/a/ground-zero-now-and-then/1771867.html'"
      ]
     },
     "execution_count": 63,
     "metadata": {},
     "output_type": "execute_result"
    }
   ],
   "source": []
  },
  {
   "cell_type": "code",
   "execution_count": 7,
   "metadata": {
    "collapsed": false
   },
   "outputs": [],
   "source": [
    "def crawlPage(url):\n",
    "    \n",
    "    res = requests.get(url)\n",
    "    \n",
    "    soup = BeautifulSoup(res.text,'lxml')\n",
    "\n",
    "    for push in soup.select(\"span\"):\n",
    "        push.extract()\n",
    "    \n",
    "    for push in soup.select(\"div.wsw > div\"):\n",
    "        push.extract()\n",
    "    \n",
    "    try:  \n",
    "        contents = soup.find('div',{'class':'wsw'}).get_text().replace('\\n', '').replace('\\'', '').replace('\\\"', '').strip().split('. ')\n",
    "    except:\n",
    "        try: \n",
    "            contents = soup.find('div',{'class':'intro'}).get_text().replace('\\n', '').replace('\\'', '').replace('\\\"', '').strip().split('. ')\n",
    "        except:\n",
    "            contents = {}\n",
    "    \n",
    "    articles_dict = {}\n",
    "\n",
    "    for page in range(len(contents)):\n",
    "    \n",
    "        articles_dict[str(page+1)] = contents[page]\n",
    "    \n",
    "    return articles_dict"
   ]
  },
  {
   "cell_type": "code",
   "execution_count": 8,
   "metadata": {
    "collapsed": false
   },
   "outputs": [
    {
     "data": {
      "text/plain": [
       "{'1': 'A fire that broke out Saturday halfway up the John Hancock Center, one of Chicagos tallest skyscrapers, has been put out, authorities said',\n",
       " '2': 'Five people were injured.Flames and thick smoke poured out of an east-side window on the 50th floor',\n",
       " '3': 'Authorities said the fire did not leave the residential unit where it began, but the apartment was gutted and other residents on the floor were displaced.The Chicago Fire Department said the blaze was accidental.The iconic 99-floor building, completed in 1970, also has offices, shops and an observation floor popular with tourists.The fire departments media office tweeted that of the injured, two were in good condition and three were stable',\n",
       " '4': 'A spokesman couldnt immediately be reached to provide details.Firefighters conducted floor-by-floor searches to ensure people were safe.'}"
      ]
     },
     "execution_count": 8,
     "metadata": {},
     "output_type": "execute_result"
    }
   ],
   "source": [
    "crawlPage('http://www.voanews.com/a/fire-injures-one-chicago-hancock-skyscraper/3068332.html')"
   ]
  },
  {
   "cell_type": "code",
   "execution_count": null,
   "metadata": {
    "collapsed": true
   },
   "outputs": [],
   "source": []
  }
 ],
 "metadata": {
  "kernelspec": {
   "display_name": "Python 3",
   "language": "python",
   "name": "python3"
  },
  "language_info": {
   "codemirror_mode": {
    "name": "ipython",
    "version": 3
   },
   "file_extension": ".py",
   "mimetype": "text/x-python",
   "name": "python",
   "nbconvert_exporter": "python",
   "pygments_lexer": "ipython3",
   "version": "3.6.0"
  }
 },
 "nbformat": 4,
 "nbformat_minor": 2
}
