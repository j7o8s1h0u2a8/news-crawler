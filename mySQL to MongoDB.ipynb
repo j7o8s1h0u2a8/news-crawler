{
 "cells": [
  {
   "cell_type": "code",
   "execution_count": 17,
   "metadata": {
    "collapsed": true
   },
   "outputs": [
    {
     "name": "stdout",
     "output_type": "stream",
     "text": [
      "Collecting pymongo\n",
      "  Downloading pymongo-3.4.0.tar.gz (583kB)\n",
      "Building wheels for collected packages: pymongo\n",
      "  Running setup.py bdist_wheel for pymongo: started\n",
      "  Running setup.py bdist_wheel for pymongo: finished with status 'done'\n",
      "  Stored in directory: C:\\Users\\BIG DATA\\AppData\\Local\\pip\\Cache\\wheels\\41\\12\\7b\\8a5763b32bbea5d7bca33dfbdb4740541ef17f5ca3f22b3be9\n",
      "Successfully built pymongo\n",
      "Installing collected packages: pymongo\n",
      "Successfully installed pymongo-3.4.0\n"
     ]
    }
   ],
   "source": [
    "!pip install pymongo"
   ]
  },
  {
   "cell_type": "code",
   "execution_count": 55,
   "metadata": {
    "collapsed": true
   },
   "outputs": [],
   "source": [
    "from pymongo import MongoClient\n",
    "import pymongo\n",
    "import pymysql\n",
    "import requests\n",
    "from urllib.request import urlopen\n",
    "from bs4 import BeautifulSoup\n",
    "import pickle\n",
    "import json\n",
    "import datetime\n"
   ]
  },
  {
   "cell_type": "code",
   "execution_count": 63,
   "metadata": {
    "collapsed": false
   },
   "outputs": [],
   "source": [
    "def get_sql_url(conn,source):\n",
    "    list_url = []\n",
    "    sql = \"SELECT url FROM gp3.cklist WHERE source ='%s' and tag ='N' order by url desc limit 235\"\n",
    "    cur = conn.cursor()\n",
    "    cur.execute(sql % source)\n",
    "    for i in cur:\n",
    "        list_url.append(i[0])\n",
    "    return list_url\n",
    "\n",
    "\n",
    "def insert_mongo(client,jsObj):\n",
    "    collection.insert_one(jsObj)\n",
    "\n",
    "    \n",
    "def update_sql(conn,url):\n",
    "    sql  = \"update gp3.cklist set tag = 'R' where url = '%s' \"\n",
    "    cur = conn.cursor()\n",
    "    cur.execute(sql%url)\n",
    "    cur.connection.commit()\n",
    "\n",
    "\n",
    "conn = pymysql.connect(host='10.120.28.52', port=3306, user='gp3', passwd='Group_03', db='gp3')\n",
    "list_url = get_sql_url(conn,'voa')\n",
    "client = MongoClient('10.120.28.55', 27017)\n",
    "db = client['news']\n",
    "collection = db['news']\n",
    "\n",
    "\n",
    "for url in list_url:\n",
    "    update_sql(conn, url)\n",
    "    \n",
    "    res = requests.get(url)\n",
    "    \n",
    "    soup = BeautifulSoup(res.text,'lxml')\n",
    "    \n",
    "    articles_dict = {}\n",
    "    \n",
    "    for time in soup.select('span.date > time'):\n",
    "        \n",
    "        articles_dict['date'] = str(time).split(\"T\")[0].split(\"=\\\"\")[1]\n",
    "    \n",
    "    for title in soup.select('h1.pg-title'):\n",
    "    \n",
    "        articles_dict['title'] = title.text.strip(\"\\n\")\n",
    "\n",
    "    for push in soup.select(\"span\"):\n",
    "        push.extract()\n",
    "    \n",
    "    for push in soup.select(\"div.wsw > div\"):\n",
    "        push.extract()\n",
    "    \n",
    "    contents_dict = {}\n",
    "    \n",
    "    try:\n",
    "        contents = soup.find('div',{'class':'wsw'}).get_text().replace('\\n', '').replace('\\'', '').replace('\\\"', '').strip().split('. ')\n",
    "    except:pass\n",
    "    \n",
    "    \n",
    "    for page in range(len(contents)):\n",
    "    \n",
    "        contents_dict[str(page+1)] = contents[page]\n",
    "        \n",
    "    articles_dict['content'] = contents_dict\n",
    "    \n",
    "    articles_dict['source'] = 'VOA'\n",
    "    \n",
    "    articles_dict['url'] = url\n",
    "    \n",
    "    insert_mongo(client,articles_dict)\n",
    "    \n",
    "    #print(articles_dict)"
   ]
  },
  {
   "cell_type": "code",
   "execution_count": 57,
   "metadata": {
    "collapsed": false
   },
   "outputs": [
    {
     "data": {
      "text/plain": [
       "dict"
      ]
     },
     "execution_count": 57,
     "metadata": {},
     "output_type": "execute_result"
    }
   ],
   "source": [
    "type(articles_dict)"
   ]
  },
  {
   "cell_type": "code",
   "execution_count": null,
   "metadata": {
    "collapsed": true
   },
   "outputs": [],
   "source": []
  }
 ],
 "metadata": {
  "kernelspec": {
   "display_name": "Python 3",
   "language": "python",
   "name": "python3"
  },
  "language_info": {
   "codemirror_mode": {
    "name": "ipython",
    "version": 3
   },
   "file_extension": ".py",
   "mimetype": "text/x-python",
   "name": "python",
   "nbconvert_exporter": "python",
   "pygments_lexer": "ipython3",
   "version": "3.6.0"
  }
 },
 "nbformat": 4,
 "nbformat_minor": 2
}
